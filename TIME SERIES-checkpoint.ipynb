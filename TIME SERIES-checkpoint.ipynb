{
 "cells": [
  {
   "cell_type": "code",
   "execution_count": 1,
   "metadata": {},
   "outputs": [],
   "source": [
    "import pandas as pd\n",
    "import numpy as np\n",
    "import matplotlib.pyplot as plt\n",
    "import seaborn as sns\n"
   ]
  },
  {
   "cell_type": "code",
   "execution_count": 3,
   "metadata": {
    "collapsed": true
   },
   "outputs": [
    {
     "name": "stdout",
     "output_type": "stream",
     "text": [
      "      Row ID        Order ID Order Date  Ship Date       Ship Mode  \\\n",
      "0          1  CA-2016-152156 2016-11-08 2016-11-11    Second Class   \n",
      "1          2  CA-2016-152156 2016-11-08 2016-11-11    Second Class   \n",
      "2          3  CA-2016-138688 2016-06-12 2016-06-16    Second Class   \n",
      "3          4  US-2015-108966 2015-10-11 2015-10-18  Standard Class   \n",
      "4          5  US-2015-108966 2015-10-11 2015-10-18  Standard Class   \n",
      "5          6  CA-2014-115812 2014-06-09 2014-06-14  Standard Class   \n",
      "6          7  CA-2014-115812 2014-06-09 2014-06-14  Standard Class   \n",
      "7          8  CA-2014-115812 2014-06-09 2014-06-14  Standard Class   \n",
      "8          9  CA-2014-115812 2014-06-09 2014-06-14  Standard Class   \n",
      "9         10  CA-2014-115812 2014-06-09 2014-06-14  Standard Class   \n",
      "10        11  CA-2014-115812 2014-06-09 2014-06-14  Standard Class   \n",
      "11        12  CA-2014-115812 2014-06-09 2014-06-14  Standard Class   \n",
      "12        13  CA-2017-114412 2017-04-15 2017-04-20  Standard Class   \n",
      "13        14  CA-2016-161389 2016-12-05 2016-12-10  Standard Class   \n",
      "14        15  US-2015-118983 2015-11-22 2015-11-26  Standard Class   \n",
      "15        16  US-2015-118983 2015-11-22 2015-11-26  Standard Class   \n",
      "16        17  CA-2014-105893 2014-11-11 2014-11-18  Standard Class   \n",
      "17        18  CA-2014-167164 2014-05-13 2014-05-15    Second Class   \n",
      "18        19  CA-2014-143336 2014-08-27 2014-09-01    Second Class   \n",
      "19        20  CA-2014-143336 2014-08-27 2014-09-01    Second Class   \n",
      "20        21  CA-2014-143336 2014-08-27 2014-09-01    Second Class   \n",
      "21        22  CA-2016-137330 2016-12-09 2016-12-13  Standard Class   \n",
      "22        23  CA-2016-137330 2016-12-09 2016-12-13  Standard Class   \n",
      "23        24  US-2017-156909 2017-07-16 2017-07-18    Second Class   \n",
      "24        25  CA-2015-106320 2015-09-25 2015-09-30  Standard Class   \n",
      "25        26  CA-2016-121755 2016-01-16 2016-01-20    Second Class   \n",
      "26        27  CA-2016-121755 2016-01-16 2016-01-20    Second Class   \n",
      "27        28  US-2015-150630 2015-09-17 2015-09-21  Standard Class   \n",
      "28        29  US-2015-150630 2015-09-17 2015-09-21  Standard Class   \n",
      "29        30  US-2015-150630 2015-09-17 2015-09-21  Standard Class   \n",
      "...      ...             ...        ...        ...             ...   \n",
      "9964    9965  CA-2016-146374 2016-12-05 2016-12-10    Second Class   \n",
      "9965    9966  CA-2016-146374 2016-12-05 2016-12-10    Second Class   \n",
      "9966    9967  CA-2016-146374 2016-12-05 2016-12-10    Second Class   \n",
      "9967    9968  CA-2017-153871 2017-12-11 2017-12-17  Standard Class   \n",
      "9968    9969  CA-2017-153871 2017-12-11 2017-12-17  Standard Class   \n",
      "9969    9970  CA-2017-153871 2017-12-11 2017-12-17  Standard Class   \n",
      "9970    9971  CA-2015-103772 2015-06-28 2015-07-02  Standard Class   \n",
      "9971    9972  CA-2015-103772 2015-06-28 2015-07-02  Standard Class   \n",
      "9972    9973  CA-2016-130225 2016-09-11 2016-09-17  Standard Class   \n",
      "9973    9974  US-2016-103674 2016-12-06 2016-12-10  Standard Class   \n",
      "9974    9975  US-2016-103674 2016-12-06 2016-12-10  Standard Class   \n",
      "9975    9976  US-2016-103674 2016-12-06 2016-12-10  Standard Class   \n",
      "9976    9977  US-2016-103674 2016-12-06 2016-12-10  Standard Class   \n",
      "9977    9978  US-2016-103674 2016-12-06 2016-12-10  Standard Class   \n",
      "9978    9979  US-2016-103674 2016-12-06 2016-12-10  Standard Class   \n",
      "9979    9980  US-2016-103674 2016-12-06 2016-12-10  Standard Class   \n",
      "9980    9981  US-2015-151435 2015-09-06 2015-09-09    Second Class   \n",
      "9981    9982  CA-2017-163566 2017-08-03 2017-08-06     First Class   \n",
      "9982    9983  US-2016-157728 2016-09-22 2016-09-28  Standard Class   \n",
      "9983    9984  US-2016-157728 2016-09-22 2016-09-28  Standard Class   \n",
      "9984    9985  CA-2015-100251 2015-05-17 2015-05-23  Standard Class   \n",
      "9985    9986  CA-2015-100251 2015-05-17 2015-05-23  Standard Class   \n",
      "9986    9987  CA-2016-125794 2016-09-29 2016-10-03  Standard Class   \n",
      "9987    9988  CA-2017-163629 2017-11-17 2017-11-21  Standard Class   \n",
      "9988    9989  CA-2017-163629 2017-11-17 2017-11-21  Standard Class   \n",
      "9989    9990  CA-2014-110422 2014-01-21 2014-01-23    Second Class   \n",
      "9990    9991  CA-2017-121258 2017-02-26 2017-03-03  Standard Class   \n",
      "9991    9992  CA-2017-121258 2017-02-26 2017-03-03  Standard Class   \n",
      "9992    9993  CA-2017-121258 2017-02-26 2017-03-03  Standard Class   \n",
      "9993    9994  CA-2017-119914 2017-05-04 2017-05-09    Second Class   \n",
      "\n",
      "     Customer ID       Customer Name      Segment        Country  \\\n",
      "0       CG-12520         Claire Gute     Consumer  United States   \n",
      "1       CG-12520         Claire Gute     Consumer  United States   \n",
      "2       DV-13045     Darrin Van Huff    Corporate  United States   \n",
      "3       SO-20335      Sean O'Donnell     Consumer  United States   \n",
      "4       SO-20335      Sean O'Donnell     Consumer  United States   \n",
      "5       BH-11710     Brosina Hoffman     Consumer  United States   \n",
      "6       BH-11710     Brosina Hoffman     Consumer  United States   \n",
      "7       BH-11710     Brosina Hoffman     Consumer  United States   \n",
      "8       BH-11710     Brosina Hoffman     Consumer  United States   \n",
      "9       BH-11710     Brosina Hoffman     Consumer  United States   \n",
      "10      BH-11710     Brosina Hoffman     Consumer  United States   \n",
      "11      BH-11710     Brosina Hoffman     Consumer  United States   \n",
      "12      AA-10480        Andrew Allen     Consumer  United States   \n",
      "13      IM-15070        Irene Maddox     Consumer  United States   \n",
      "14      HP-14815       Harold Pawlan  Home Office  United States   \n",
      "15      HP-14815       Harold Pawlan  Home Office  United States   \n",
      "16      PK-19075           Pete Kriz     Consumer  United States   \n",
      "17      AG-10270     Alejandro Grove     Consumer  United States   \n",
      "18      ZD-21925  Zuschuss Donatelli     Consumer  United States   \n",
      "19      ZD-21925  Zuschuss Donatelli     Consumer  United States   \n",
      "20      ZD-21925  Zuschuss Donatelli     Consumer  United States   \n",
      "21      KB-16585           Ken Black    Corporate  United States   \n",
      "22      KB-16585           Ken Black    Corporate  United States   \n",
      "23      SF-20065     Sandra Flanagan     Consumer  United States   \n",
      "24      EB-13870         Emily Burns     Consumer  United States   \n",
      "25      EH-13945       Eric Hoffmann     Consumer  United States   \n",
      "26      EH-13945       Eric Hoffmann     Consumer  United States   \n",
      "27      TB-21520     Tracy Blumstein     Consumer  United States   \n",
      "28      TB-21520     Tracy Blumstein     Consumer  United States   \n",
      "29      TB-21520     Tracy Blumstein     Consumer  United States   \n",
      "...          ...                 ...          ...            ...   \n",
      "9964    HE-14800        Harold Engle    Corporate  United States   \n",
      "9965    HE-14800        Harold Engle    Corporate  United States   \n",
      "9966    HE-14800        Harold Engle    Corporate  United States   \n",
      "9967    RB-19435     Richard Bierner     Consumer  United States   \n",
      "9968    RB-19435     Richard Bierner     Consumer  United States   \n",
      "9969    RB-19435     Richard Bierner     Consumer  United States   \n",
      "9970    MP-17470         Mark Packer  Home Office  United States   \n",
      "9971    MP-17470         Mark Packer  Home Office  United States   \n",
      "9972    RC-19960          Ryan Crowe     Consumer  United States   \n",
      "9973    AP-10720          Anne Pryor  Home Office  United States   \n",
      "9974    AP-10720          Anne Pryor  Home Office  United States   \n",
      "9975    AP-10720          Anne Pryor  Home Office  United States   \n",
      "9976    AP-10720          Anne Pryor  Home Office  United States   \n",
      "9977    AP-10720          Anne Pryor  Home Office  United States   \n",
      "9978    AP-10720          Anne Pryor  Home Office  United States   \n",
      "9979    AP-10720          Anne Pryor  Home Office  United States   \n",
      "9980    SW-20455         Shaun Weien     Consumer  United States   \n",
      "9981    TB-21055     Ted Butterfield     Consumer  United States   \n",
      "9982    RC-19960          Ryan Crowe     Consumer  United States   \n",
      "9983    RC-19960          Ryan Crowe     Consumer  United States   \n",
      "9984    DV-13465    Dianna Vittorini     Consumer  United States   \n",
      "9985    DV-13465    Dianna Vittorini     Consumer  United States   \n",
      "9986    ML-17410        Maris LaWare     Consumer  United States   \n",
      "9987    RA-19885        Ruben Ausman    Corporate  United States   \n",
      "9988    RA-19885        Ruben Ausman    Corporate  United States   \n",
      "9989    TB-21400    Tom Boeckenhauer     Consumer  United States   \n",
      "9990    DB-13060         Dave Brooks     Consumer  United States   \n",
      "9991    DB-13060         Dave Brooks     Consumer  United States   \n",
      "9992    DB-13060         Dave Brooks     Consumer  United States   \n",
      "9993    CC-12220        Chris Cortes     Consumer  United States   \n",
      "\n",
      "                 City  ... Postal Code   Region       Product ID  \\\n",
      "0           Henderson  ...       42420    South  FUR-BO-10001798   \n",
      "1           Henderson  ...       42420    South  FUR-CH-10000454   \n",
      "2         Los Angeles  ...       90036     West  OFF-LA-10000240   \n",
      "3     Fort Lauderdale  ...       33311    South  FUR-TA-10000577   \n",
      "4     Fort Lauderdale  ...       33311    South  OFF-ST-10000760   \n",
      "5         Los Angeles  ...       90032     West  FUR-FU-10001487   \n",
      "6         Los Angeles  ...       90032     West  OFF-AR-10002833   \n",
      "7         Los Angeles  ...       90032     West  TEC-PH-10002275   \n",
      "8         Los Angeles  ...       90032     West  OFF-BI-10003910   \n",
      "9         Los Angeles  ...       90032     West  OFF-AP-10002892   \n",
      "10        Los Angeles  ...       90032     West  FUR-TA-10001539   \n",
      "11        Los Angeles  ...       90032     West  TEC-PH-10002033   \n",
      "12            Concord  ...       28027    South  OFF-PA-10002365   \n",
      "13            Seattle  ...       98103     West  OFF-BI-10003656   \n",
      "14         Fort Worth  ...       76106  Central  OFF-AP-10002311   \n",
      "15         Fort Worth  ...       76106  Central  OFF-BI-10000756   \n",
      "16            Madison  ...       53711  Central  OFF-ST-10004186   \n",
      "17        West Jordan  ...       84084     West  OFF-ST-10000107   \n",
      "18      San Francisco  ...       94109     West  OFF-AR-10003056   \n",
      "19      San Francisco  ...       94109     West  TEC-PH-10001949   \n",
      "20      San Francisco  ...       94109     West  OFF-BI-10002215   \n",
      "21            Fremont  ...       68025  Central  OFF-AR-10000246   \n",
      "22            Fremont  ...       68025  Central  OFF-AP-10001492   \n",
      "23       Philadelphia  ...       19140     East  FUR-CH-10002774   \n",
      "24               Orem  ...       84057     West  FUR-TA-10000577   \n",
      "25        Los Angeles  ...       90049     West  OFF-BI-10001634   \n",
      "26        Los Angeles  ...       90049     West  TEC-AC-10003027   \n",
      "27       Philadelphia  ...       19140     East  FUR-BO-10004834   \n",
      "28       Philadelphia  ...       19140     East  OFF-BI-10000474   \n",
      "29       Philadelphia  ...       19140     East  FUR-FU-10004848   \n",
      "...               ...  ...         ...      ...              ...   \n",
      "9964           Newark  ...       19711     East  FUR-FU-10002671   \n",
      "9965           Newark  ...       19711     East  OFF-PA-10000349   \n",
      "9966           Newark  ...       19711     East  OFF-EN-10004483   \n",
      "9967       Plainfield  ...        7060     East  OFF-BI-10004209   \n",
      "9968       Plainfield  ...        7060     East  OFF-BI-10004600   \n",
      "9969       Plainfield  ...        7060     East  OFF-AP-10003622   \n",
      "9970           Smyrna  ...       30080    South  OFF-BI-10002867   \n",
      "9971           Smyrna  ...       30080    South  OFF-AR-10000538   \n",
      "9972          Houston  ...       77041  Central  OFF-EN-10000056   \n",
      "9973      Los Angeles  ...       90032     West  TEC-PH-10004080   \n",
      "9974      Los Angeles  ...       90032     West  OFF-AR-10004752   \n",
      "9975      Los Angeles  ...       90032     West  OFF-PA-10000743   \n",
      "9976      Los Angeles  ...       90032     West  TEC-PH-10002496   \n",
      "9977      Los Angeles  ...       90032     West  OFF-FA-10003467   \n",
      "9978      Los Angeles  ...       90032     West  OFF-BI-10003727   \n",
      "9979      Los Angeles  ...       90032     West  OFF-BI-10002026   \n",
      "9980        Lafayette  ...       70506    South  FUR-TA-10001039   \n",
      "9981        Fairfield  ...       45014     East  OFF-LA-10004484   \n",
      "9982     Grand Rapids  ...       49505  Central  OFF-PA-10002195   \n",
      "9983     Grand Rapids  ...       49505  Central  TEC-PH-10001305   \n",
      "9984       Long Beach  ...       11561     East  OFF-LA-10003766   \n",
      "9985       Long Beach  ...       11561     East  OFF-SU-10000898   \n",
      "9986      Los Angeles  ...       90008     West  TEC-AC-10003399   \n",
      "9987           Athens  ...       30605    South  TEC-AC-10001539   \n",
      "9988           Athens  ...       30605    South  TEC-PH-10004006   \n",
      "9989            Miami  ...       33180    South  FUR-FU-10001889   \n",
      "9990       Costa Mesa  ...       92627     West  FUR-FU-10000747   \n",
      "9991       Costa Mesa  ...       92627     West  TEC-PH-10003645   \n",
      "9992       Costa Mesa  ...       92627     West  OFF-PA-10004041   \n",
      "9993      Westminster  ...       92683     West  OFF-AP-10002684   \n",
      "\n",
      "             Category Sub-Category  \\\n",
      "0           Furniture    Bookcases   \n",
      "1           Furniture       Chairs   \n",
      "2     Office Supplies       Labels   \n",
      "3           Furniture       Tables   \n",
      "4     Office Supplies      Storage   \n",
      "5           Furniture  Furnishings   \n",
      "6     Office Supplies          Art   \n",
      "7          Technology       Phones   \n",
      "8     Office Supplies      Binders   \n",
      "9     Office Supplies   Appliances   \n",
      "10          Furniture       Tables   \n",
      "11         Technology       Phones   \n",
      "12    Office Supplies        Paper   \n",
      "13    Office Supplies      Binders   \n",
      "14    Office Supplies   Appliances   \n",
      "15    Office Supplies      Binders   \n",
      "16    Office Supplies      Storage   \n",
      "17    Office Supplies      Storage   \n",
      "18    Office Supplies          Art   \n",
      "19         Technology       Phones   \n",
      "20    Office Supplies      Binders   \n",
      "21    Office Supplies          Art   \n",
      "22    Office Supplies   Appliances   \n",
      "23          Furniture       Chairs   \n",
      "24          Furniture       Tables   \n",
      "25    Office Supplies      Binders   \n",
      "26         Technology  Accessories   \n",
      "27          Furniture    Bookcases   \n",
      "28    Office Supplies      Binders   \n",
      "29          Furniture  Furnishings   \n",
      "...               ...          ...   \n",
      "9964        Furniture  Furnishings   \n",
      "9965  Office Supplies        Paper   \n",
      "9966  Office Supplies    Envelopes   \n",
      "9967  Office Supplies      Binders   \n",
      "9968  Office Supplies      Binders   \n",
      "9969  Office Supplies   Appliances   \n",
      "9970  Office Supplies      Binders   \n",
      "9971  Office Supplies          Art   \n",
      "9972  Office Supplies    Envelopes   \n",
      "9973       Technology       Phones   \n",
      "9974  Office Supplies          Art   \n",
      "9975  Office Supplies        Paper   \n",
      "9976       Technology       Phones   \n",
      "9977  Office Supplies    Fasteners   \n",
      "9978  Office Supplies      Binders   \n",
      "9979  Office Supplies      Binders   \n",
      "9980        Furniture       Tables   \n",
      "9981  Office Supplies       Labels   \n",
      "9982  Office Supplies        Paper   \n",
      "9983       Technology       Phones   \n",
      "9984  Office Supplies       Labels   \n",
      "9985  Office Supplies     Supplies   \n",
      "9986       Technology  Accessories   \n",
      "9987       Technology  Accessories   \n",
      "9988       Technology       Phones   \n",
      "9989        Furniture  Furnishings   \n",
      "9990        Furniture  Furnishings   \n",
      "9991       Technology       Phones   \n",
      "9992  Office Supplies        Paper   \n",
      "9993  Office Supplies   Appliances   \n",
      "\n",
      "                                           Product Name      Sales  Quantity  \\\n",
      "0                     Bush Somerset Collection Bookcase   261.9600         2   \n",
      "1     Hon Deluxe Fabric Upholstered Stacking Chairs,...   731.9400         3   \n",
      "2     Self-Adhesive Address Labels for Typewriters b...    14.6200         2   \n",
      "3         Bretford CR4500 Series Slim Rectangular Table   957.5775         5   \n",
      "4                        Eldon Fold 'N Roll Cart System    22.3680         2   \n",
      "5     Eldon Expressions Wood and Plastic Desk Access...    48.8600         7   \n",
      "6                                            Newell 322     7.2800         4   \n",
      "7                        Mitel 5320 IP Phone VoIP phone   907.1520         6   \n",
      "8     DXL Angle-View Binders with Locking Rings by S...    18.5040         3   \n",
      "9                      Belkin F5C206VTEL 6 Outlet Surge   114.9000         5   \n",
      "10             Chromcraft Rectangular Conference Tables  1706.1840         9   \n",
      "11        Konftel 250 Conference phone - Charcoal black   911.4240         4   \n",
      "12                                           Xerox 1967    15.5520         3   \n",
      "13          Fellowes PB200 Plastic Comb Binding Machine   407.9760         3   \n",
      "14    Holmes Replacement Filter for HEPA Air Cleaner...    68.8100         5   \n",
      "15     Storex DuraTech Recycled Plastic Frosted Binders     2.5440         3   \n",
      "16    Stur-D-Stor Shelving, Vertical 5-Shelf: 72\"H x...   665.8800         6   \n",
      "17                           Fellowes Super Stor/Drawer    55.5000         2   \n",
      "18                                           Newell 341     8.5600         2   \n",
      "19                              Cisco SPA 501G IP Phone   213.4800         3   \n",
      "20          Wilson Jones Hanging View Binder, White, 1\"    22.7200         4   \n",
      "21                                           Newell 318    19.4600         7   \n",
      "22          Acco Six-Outlet Power Strip, 4' Cord Length    60.3400         7   \n",
      "23                   Global Deluxe Stacking Chair, Gray    71.3720         2   \n",
      "24        Bretford CR4500 Series Slim Rectangular Table  1044.6300         3   \n",
      "25                      Wilson Jones Active Use Binders    11.6480         2   \n",
      "26     Imation 8GB Mini TravelDrive USB 2.0 Flash Drive    90.5700         3   \n",
      "27    Riverside Palais Royal Lawyers Bookcase, Royal...  3083.4300         7   \n",
      "28    Avery Recycled Flexi-View Covers for Binding S...     9.6180         2   \n",
      "29    Howard Miller 13-3/4\" Diameter Brushed Chrome ...   124.2000         3   \n",
      "...                                                 ...        ...       ...   \n",
      "9964  Electrix 20W Halogen Replacement Bulb for Zoom...    13.4000         1   \n",
      "9965                                  Easy-staple paper     4.9800         1   \n",
      "9966         #10 White Business Envelopes,4 1/8 x 9 1/2   109.6900         7   \n",
      "9967            Fellowes Twister Kit, Gray/Clear, 3/pkg    40.2000         5   \n",
      "9968          Ibico Ibimaster 300 Manual Binding System   735.9800         2   \n",
      "9969  Bravo II Megaboss 12-Amp Hard Body Upright, Re...    22.7500         7   \n",
      "9970            GBC Recycled Regency Composition Covers   119.5600         2   \n",
      "9971  Boston Model 1800 Electric Pencil Sharpener, Gray   140.7500         5   \n",
      "9972                        Cameo Buff Policy Envelopes    99.5680         2   \n",
      "9973                           Avaya 5410 Digital phone   271.9600         5   \n",
      "9974                               Blackstonian Pencils    18.6900         7   \n",
      "9975                                         Xerox 1977    13.3600         2   \n",
      "9976                                       Cisco SPA301   249.5840         2   \n",
      "9977           Alliance Big Bands Rubber Bands, 12/Pack    13.8600         7   \n",
      "9978  Avery Durable Slant Ring Binders With Label Ho...    13.3760         4   \n",
      "9979                  Ibico Recycled Linen-Style Covers   437.4720        14   \n",
      "9980                         KI Adjustable-Height Table    85.9800         1   \n",
      "9981                                          Avery 476    16.5200         5   \n",
      "9982  RSVP Cards & Envelopes, Blank White, 8-1/2\" X ...    35.5600         7   \n",
      "9983                   Panasonic KX TS208W Corded phone    97.9800         2   \n",
      "9984                     Self-Adhesive Removable Labels    31.5000        10   \n",
      "9985  Acme Hot Forged Carbon Steel Scissors with Nic...    55.6000         4   \n",
      "9986  Memorex Mini Travel Drive 64 GB USB 2.0 Flash ...    36.2400         1   \n",
      "9987  Logitech G430 Surround Sound Gaming Headset wi...    79.9900         1   \n",
      "9988                    Panasonic KX - TS880B Telephone   206.1000         5   \n",
      "9989                             Ultra Door Pull Handle    25.2480         3   \n",
      "9990  Tenex B1-RE Series Chair Mats for Low Pile Car...    91.9600         2   \n",
      "9991                              Aastra 57i VoIP phone   258.5760         2   \n",
      "9992  It's Hot Message Books with Stickers, 2 3/4\" x 5\"    29.6000         4   \n",
      "9993  Acco 7-Outlet Masterpiece Power Center, Wihtou...   243.1600         2   \n",
      "\n",
      "      Discount     Profit  \n",
      "0         0.00    41.9136  \n",
      "1         0.00   219.5820  \n",
      "2         0.00     6.8714  \n",
      "3         0.45  -383.0310  \n",
      "4         0.20     2.5164  \n",
      "5         0.00    14.1694  \n",
      "6         0.00     1.9656  \n",
      "7         0.20    90.7152  \n",
      "8         0.20     5.7825  \n",
      "9         0.00    34.4700  \n",
      "10        0.20    85.3092  \n",
      "11        0.20    68.3568  \n",
      "12        0.20     5.4432  \n",
      "13        0.20   132.5922  \n",
      "14        0.80  -123.8580  \n",
      "15        0.80    -3.8160  \n",
      "16        0.00    13.3176  \n",
      "17        0.00     9.9900  \n",
      "18        0.00     2.4824  \n",
      "19        0.20    16.0110  \n",
      "20        0.20     7.3840  \n",
      "21        0.00     5.0596  \n",
      "22        0.00    15.6884  \n",
      "23        0.30    -1.0196  \n",
      "24        0.00   240.2649  \n",
      "25        0.20     4.2224  \n",
      "26        0.00    11.7741  \n",
      "27        0.50 -1665.0522  \n",
      "28        0.70    -7.0532  \n",
      "29        0.20    15.5250  \n",
      "...        ...        ...  \n",
      "9964      0.00     6.4320  \n",
      "9965      0.00     2.3406  \n",
      "9966      0.00    51.5543  \n",
      "9967      0.00    18.0900  \n",
      "9968      0.00   331.1910  \n",
      "9969      0.00     6.5975  \n",
      "9970      0.00    54.9976  \n",
      "9971      0.00    42.2250  \n",
      "9972      0.20    33.6042  \n",
      "9973      0.20    27.1960  \n",
      "9974      0.00     5.2332  \n",
      "9975      0.00     6.4128  \n",
      "9976      0.20    31.1980  \n",
      "9977      0.00     0.0000  \n",
      "9978      0.20     4.6816  \n",
      "9979      0.20   153.1152  \n",
      "9980      0.00    22.3548  \n",
      "9981      0.20     5.3690  \n",
      "9982      0.00    16.7132  \n",
      "9983      0.00    27.4344  \n",
      "9984      0.00    15.1200  \n",
      "9985      0.00    16.1240  \n",
      "9986      0.00    15.2208  \n",
      "9987      0.00    28.7964  \n",
      "9988      0.00    55.6470  \n",
      "9989      0.20     4.1028  \n",
      "9990      0.00    15.6332  \n",
      "9991      0.20    19.3932  \n",
      "9992      0.00    13.3200  \n",
      "9993      0.00    72.9480  \n",
      "\n",
      "[9994 rows x 21 columns]\n"
     ]
    }
   ],
   "source": [
    "df = pd.read_excel(r'C:\\Users\\Personal\\Desktop\\Python\\Sample - Superstore.xls')\n",
    "##header= None - as there is no header in the data set. \n",
    "##delimiter=' *,* ' - so that there is no space in the data. \n",
    "print(df)"
   ]
  },
  {
   "cell_type": "code",
   "execution_count": 9,
   "metadata": {},
   "outputs": [
    {
     "data": {
      "text/plain": [
       "Office Supplies    6026\n",
       "Furniture          2121\n",
       "Technology         1847\n",
       "Name: Category, dtype: int64"
      ]
     },
     "execution_count": 9,
     "metadata": {},
     "output_type": "execute_result"
    }
   ],
   "source": [
    "df.Category.value_counts() ## to check how many values of furniture do we have "
   ]
  },
  {
   "cell_type": "code",
   "execution_count": 11,
   "metadata": {},
   "outputs": [
    {
     "data": {
      "text/plain": [
       "(2121, 21)"
      ]
     },
     "execution_count": 11,
     "metadata": {},
     "output_type": "execute_result"
    }
   ],
   "source": [
    "furniture = df.loc[df['Category']==  'Furniture']\n",
    "furniture.shape\n",
    "## filter the furniture data "
   ]
  },
  {
   "cell_type": "code",
   "execution_count": 13,
   "metadata": {},
   "outputs": [
    {
     "data": {
      "text/plain": [
       "(Timestamp('2014-01-06 00:00:00'), Timestamp('2017-12-30 00:00:00'))"
      ]
     },
     "execution_count": 13,
     "metadata": {},
     "output_type": "execute_result"
    }
   ],
   "source": [
    "furniture ['Order Date'].min(),furniture['Order Date'].max()"
   ]
  },
  {
   "cell_type": "code",
   "execution_count": 14,
   "metadata": {},
   "outputs": [
    {
     "data": {
      "text/plain": [
       "Order Date    0\n",
       "Sales         0\n",
       "dtype: int64"
      ]
     },
     "execution_count": 14,
     "metadata": {},
     "output_type": "execute_result"
    }
   ],
   "source": [
    "furniture= furniture[[\"Order Date\", \"Sales\"]]\n",
    "furniture=furniture.sort_values('Order Date')\n",
    "furniture.isnull().sum()"
   ]
  },
  {
   "cell_type": "code",
   "execution_count": 15,
   "metadata": {
    "collapsed": true
   },
   "outputs": [
    {
     "data": {
      "text/html": [
       "<div>\n",
       "<style scoped>\n",
       "    .dataframe tbody tr th:only-of-type {\n",
       "        vertical-align: middle;\n",
       "    }\n",
       "\n",
       "    .dataframe tbody tr th {\n",
       "        vertical-align: top;\n",
       "    }\n",
       "\n",
       "    .dataframe thead th {\n",
       "        text-align: right;\n",
       "    }\n",
       "</style>\n",
       "<table border=\"1\" class=\"dataframe\">\n",
       "  <thead>\n",
       "    <tr style=\"text-align: right;\">\n",
       "      <th></th>\n",
       "      <th>Order Date</th>\n",
       "      <th>Sales</th>\n",
       "    </tr>\n",
       "  </thead>\n",
       "  <tbody>\n",
       "    <tr>\n",
       "      <th>7474</th>\n",
       "      <td>2014-01-06</td>\n",
       "      <td>2573.820</td>\n",
       "    </tr>\n",
       "    <tr>\n",
       "      <th>7660</th>\n",
       "      <td>2014-01-07</td>\n",
       "      <td>76.728</td>\n",
       "    </tr>\n",
       "    <tr>\n",
       "      <th>866</th>\n",
       "      <td>2014-01-10</td>\n",
       "      <td>51.940</td>\n",
       "    </tr>\n",
       "    <tr>\n",
       "      <th>716</th>\n",
       "      <td>2014-01-11</td>\n",
       "      <td>9.940</td>\n",
       "    </tr>\n",
       "    <tr>\n",
       "      <th>2978</th>\n",
       "      <td>2014-01-13</td>\n",
       "      <td>545.940</td>\n",
       "    </tr>\n",
       "    <tr>\n",
       "      <th>4938</th>\n",
       "      <td>2014-01-13</td>\n",
       "      <td>333.999</td>\n",
       "    </tr>\n",
       "    <tr>\n",
       "      <th>6474</th>\n",
       "      <td>2014-01-14</td>\n",
       "      <td>61.960</td>\n",
       "    </tr>\n",
       "    <tr>\n",
       "      <th>970</th>\n",
       "      <td>2014-01-16</td>\n",
       "      <td>127.104</td>\n",
       "    </tr>\n",
       "    <tr>\n",
       "      <th>5465</th>\n",
       "      <td>2014-01-19</td>\n",
       "      <td>181.470</td>\n",
       "    </tr>\n",
       "    <tr>\n",
       "      <th>6327</th>\n",
       "      <td>2014-01-20</td>\n",
       "      <td>272.940</td>\n",
       "    </tr>\n",
       "  </tbody>\n",
       "</table>\n",
       "</div>"
      ],
      "text/plain": [
       "     Order Date     Sales\n",
       "7474 2014-01-06  2573.820\n",
       "7660 2014-01-07    76.728\n",
       "866  2014-01-10    51.940\n",
       "716  2014-01-11     9.940\n",
       "2978 2014-01-13   545.940\n",
       "4938 2014-01-13   333.999\n",
       "6474 2014-01-14    61.960\n",
       "970  2014-01-16   127.104\n",
       "5465 2014-01-19   181.470\n",
       "6327 2014-01-20   272.940"
      ]
     },
     "execution_count": 15,
     "metadata": {},
     "output_type": "execute_result"
    }
   ],
   "source": [
    "furniture.head(10)"
   ]
  },
  {
   "cell_type": "code",
   "execution_count": 16,
   "metadata": {},
   "outputs": [
    {
     "data": {
      "text/plain": [
       "(889, 2)"
      ]
     },
     "execution_count": 16,
     "metadata": {},
     "output_type": "execute_result"
    }
   ],
   "source": [
    "## grouping the data by date. the sales per day should get add up\n",
    "\n",
    "furniture=furniture.groupby('Order Date')['Sales'].sum().reset_index() \n",
    "furniture.shape "
   ]
  },
  {
   "cell_type": "code",
   "execution_count": 19,
   "metadata": {},
   "outputs": [
    {
     "data": {
      "text/html": [
       "<div>\n",
       "<style scoped>\n",
       "    .dataframe tbody tr th:only-of-type {\n",
       "        vertical-align: middle;\n",
       "    }\n",
       "\n",
       "    .dataframe tbody tr th {\n",
       "        vertical-align: top;\n",
       "    }\n",
       "\n",
       "    .dataframe thead th {\n",
       "        text-align: right;\n",
       "    }\n",
       "</style>\n",
       "<table border=\"1\" class=\"dataframe\">\n",
       "  <thead>\n",
       "    <tr style=\"text-align: right;\">\n",
       "      <th></th>\n",
       "      <th>Order Date</th>\n",
       "      <th>Sales</th>\n",
       "    </tr>\n",
       "  </thead>\n",
       "  <tbody>\n",
       "    <tr>\n",
       "      <th>0</th>\n",
       "      <td>2014-01-06</td>\n",
       "      <td>2573.820</td>\n",
       "    </tr>\n",
       "    <tr>\n",
       "      <th>1</th>\n",
       "      <td>2014-01-07</td>\n",
       "      <td>76.728</td>\n",
       "    </tr>\n",
       "    <tr>\n",
       "      <th>2</th>\n",
       "      <td>2014-01-10</td>\n",
       "      <td>51.940</td>\n",
       "    </tr>\n",
       "    <tr>\n",
       "      <th>3</th>\n",
       "      <td>2014-01-11</td>\n",
       "      <td>9.940</td>\n",
       "    </tr>\n",
       "    <tr>\n",
       "      <th>4</th>\n",
       "      <td>2014-01-13</td>\n",
       "      <td>879.939</td>\n",
       "    </tr>\n",
       "    <tr>\n",
       "      <th>5</th>\n",
       "      <td>2014-01-14</td>\n",
       "      <td>61.960</td>\n",
       "    </tr>\n",
       "    <tr>\n",
       "      <th>6</th>\n",
       "      <td>2014-01-16</td>\n",
       "      <td>127.104</td>\n",
       "    </tr>\n",
       "    <tr>\n",
       "      <th>7</th>\n",
       "      <td>2014-01-19</td>\n",
       "      <td>181.470</td>\n",
       "    </tr>\n",
       "    <tr>\n",
       "      <th>8</th>\n",
       "      <td>2014-01-20</td>\n",
       "      <td>1413.510</td>\n",
       "    </tr>\n",
       "    <tr>\n",
       "      <th>9</th>\n",
       "      <td>2014-01-21</td>\n",
       "      <td>25.248</td>\n",
       "    </tr>\n",
       "  </tbody>\n",
       "</table>\n",
       "</div>"
      ],
      "text/plain": [
       "  Order Date     Sales\n",
       "0 2014-01-06  2573.820\n",
       "1 2014-01-07    76.728\n",
       "2 2014-01-10    51.940\n",
       "3 2014-01-11     9.940\n",
       "4 2014-01-13   879.939\n",
       "5 2014-01-14    61.960\n",
       "6 2014-01-16   127.104\n",
       "7 2014-01-19   181.470\n",
       "8 2014-01-20  1413.510\n",
       "9 2014-01-21    25.248"
      ]
     },
     "execution_count": 19,
     "metadata": {},
     "output_type": "execute_result"
    }
   ],
   "source": [
    "furniture.head(10)"
   ]
  },
  {
   "cell_type": "code",
   "execution_count": 23,
   "metadata": {},
   "outputs": [
    {
     "ename": "KeyError",
     "evalue": "'Order Date'",
     "output_type": "error",
     "traceback": [
      "\u001b[1;31m---------------------------------------------------------------------------\u001b[0m",
      "\u001b[1;31mKeyError\u001b[0m                                  Traceback (most recent call last)",
      "\u001b[1;32m~\\Anaconda3\\lib\\site-packages\\pandas\\core\\indexes\\base.py\u001b[0m in \u001b[0;36mget_loc\u001b[1;34m(self, key, method, tolerance)\u001b[0m\n\u001b[0;32m   2656\u001b[0m             \u001b[1;32mtry\u001b[0m\u001b[1;33m:\u001b[0m\u001b[1;33m\u001b[0m\u001b[1;33m\u001b[0m\u001b[0m\n\u001b[1;32m-> 2657\u001b[1;33m                 \u001b[1;32mreturn\u001b[0m \u001b[0mself\u001b[0m\u001b[1;33m.\u001b[0m\u001b[0m_engine\u001b[0m\u001b[1;33m.\u001b[0m\u001b[0mget_loc\u001b[0m\u001b[1;33m(\u001b[0m\u001b[0mkey\u001b[0m\u001b[1;33m)\u001b[0m\u001b[1;33m\u001b[0m\u001b[1;33m\u001b[0m\u001b[0m\n\u001b[0m\u001b[0;32m   2658\u001b[0m             \u001b[1;32mexcept\u001b[0m \u001b[0mKeyError\u001b[0m\u001b[1;33m:\u001b[0m\u001b[1;33m\u001b[0m\u001b[1;33m\u001b[0m\u001b[0m\n",
      "\u001b[1;32mpandas/_libs/index.pyx\u001b[0m in \u001b[0;36mpandas._libs.index.IndexEngine.get_loc\u001b[1;34m()\u001b[0m\n",
      "\u001b[1;32mpandas/_libs/index.pyx\u001b[0m in \u001b[0;36mpandas._libs.index.IndexEngine.get_loc\u001b[1;34m()\u001b[0m\n",
      "\u001b[1;32mpandas/_libs/hashtable_class_helper.pxi\u001b[0m in \u001b[0;36mpandas._libs.hashtable.PyObjectHashTable.get_item\u001b[1;34m()\u001b[0m\n",
      "\u001b[1;32mpandas/_libs/hashtable_class_helper.pxi\u001b[0m in \u001b[0;36mpandas._libs.hashtable.PyObjectHashTable.get_item\u001b[1;34m()\u001b[0m\n",
      "\u001b[1;31mKeyError\u001b[0m: 'Order Date'",
      "\nDuring handling of the above exception, another exception occurred:\n",
      "\u001b[1;31mKeyError\u001b[0m                                  Traceback (most recent call last)",
      "\u001b[1;32m<ipython-input-23-e246bd0dc76a>\u001b[0m in \u001b[0;36m<module>\u001b[1;34m\u001b[0m\n\u001b[1;32m----> 1\u001b[1;33m \u001b[0mfurniture\u001b[0m \u001b[1;33m=\u001b[0m \u001b[0mfurniture\u001b[0m\u001b[1;33m.\u001b[0m\u001b[0mset_index\u001b[0m\u001b[1;33m(\u001b[0m\u001b[1;34m'Order Date'\u001b[0m\u001b[1;33m)\u001b[0m\u001b[1;33m\u001b[0m\u001b[1;33m\u001b[0m\u001b[0m\n\u001b[0m\u001b[0;32m      2\u001b[0m \u001b[0mfurniture\u001b[0m\u001b[1;33m.\u001b[0m\u001b[0mhead\u001b[0m\u001b[1;33m(\u001b[0m\u001b[1;33m)\u001b[0m\u001b[1;33m\u001b[0m\u001b[1;33m\u001b[0m\u001b[0m\n",
      "\u001b[1;32m~\\Anaconda3\\lib\\site-packages\\pandas\\core\\frame.py\u001b[0m in \u001b[0;36mset_index\u001b[1;34m(self, keys, drop, append, inplace, verify_integrity)\u001b[0m\n\u001b[0;32m   4176\u001b[0m                 \u001b[0mnames\u001b[0m\u001b[1;33m.\u001b[0m\u001b[0mappend\u001b[0m\u001b[1;33m(\u001b[0m\u001b[1;32mNone\u001b[0m\u001b[1;33m)\u001b[0m\u001b[1;33m\u001b[0m\u001b[1;33m\u001b[0m\u001b[0m\n\u001b[0;32m   4177\u001b[0m             \u001b[1;32melse\u001b[0m\u001b[1;33m:\u001b[0m\u001b[1;33m\u001b[0m\u001b[1;33m\u001b[0m\u001b[0m\n\u001b[1;32m-> 4178\u001b[1;33m                 \u001b[0mlevel\u001b[0m \u001b[1;33m=\u001b[0m \u001b[0mframe\u001b[0m\u001b[1;33m[\u001b[0m\u001b[0mcol\u001b[0m\u001b[1;33m]\u001b[0m\u001b[1;33m.\u001b[0m\u001b[0m_values\u001b[0m\u001b[1;33m\u001b[0m\u001b[1;33m\u001b[0m\u001b[0m\n\u001b[0m\u001b[0;32m   4179\u001b[0m                 \u001b[0mnames\u001b[0m\u001b[1;33m.\u001b[0m\u001b[0mappend\u001b[0m\u001b[1;33m(\u001b[0m\u001b[0mcol\u001b[0m\u001b[1;33m)\u001b[0m\u001b[1;33m\u001b[0m\u001b[1;33m\u001b[0m\u001b[0m\n\u001b[0;32m   4180\u001b[0m                 \u001b[1;32mif\u001b[0m \u001b[0mdrop\u001b[0m\u001b[1;33m:\u001b[0m\u001b[1;33m\u001b[0m\u001b[1;33m\u001b[0m\u001b[0m\n",
      "\u001b[1;32m~\\Anaconda3\\lib\\site-packages\\pandas\\core\\frame.py\u001b[0m in \u001b[0;36m__getitem__\u001b[1;34m(self, key)\u001b[0m\n\u001b[0;32m   2925\u001b[0m             \u001b[1;32mif\u001b[0m \u001b[0mself\u001b[0m\u001b[1;33m.\u001b[0m\u001b[0mcolumns\u001b[0m\u001b[1;33m.\u001b[0m\u001b[0mnlevels\u001b[0m \u001b[1;33m>\u001b[0m \u001b[1;36m1\u001b[0m\u001b[1;33m:\u001b[0m\u001b[1;33m\u001b[0m\u001b[1;33m\u001b[0m\u001b[0m\n\u001b[0;32m   2926\u001b[0m                 \u001b[1;32mreturn\u001b[0m \u001b[0mself\u001b[0m\u001b[1;33m.\u001b[0m\u001b[0m_getitem_multilevel\u001b[0m\u001b[1;33m(\u001b[0m\u001b[0mkey\u001b[0m\u001b[1;33m)\u001b[0m\u001b[1;33m\u001b[0m\u001b[1;33m\u001b[0m\u001b[0m\n\u001b[1;32m-> 2927\u001b[1;33m             \u001b[0mindexer\u001b[0m \u001b[1;33m=\u001b[0m \u001b[0mself\u001b[0m\u001b[1;33m.\u001b[0m\u001b[0mcolumns\u001b[0m\u001b[1;33m.\u001b[0m\u001b[0mget_loc\u001b[0m\u001b[1;33m(\u001b[0m\u001b[0mkey\u001b[0m\u001b[1;33m)\u001b[0m\u001b[1;33m\u001b[0m\u001b[1;33m\u001b[0m\u001b[0m\n\u001b[0m\u001b[0;32m   2928\u001b[0m             \u001b[1;32mif\u001b[0m \u001b[0mis_integer\u001b[0m\u001b[1;33m(\u001b[0m\u001b[0mindexer\u001b[0m\u001b[1;33m)\u001b[0m\u001b[1;33m:\u001b[0m\u001b[1;33m\u001b[0m\u001b[1;33m\u001b[0m\u001b[0m\n\u001b[0;32m   2929\u001b[0m                 \u001b[0mindexer\u001b[0m \u001b[1;33m=\u001b[0m \u001b[1;33m[\u001b[0m\u001b[0mindexer\u001b[0m\u001b[1;33m]\u001b[0m\u001b[1;33m\u001b[0m\u001b[1;33m\u001b[0m\u001b[0m\n",
      "\u001b[1;32m~\\Anaconda3\\lib\\site-packages\\pandas\\core\\indexes\\base.py\u001b[0m in \u001b[0;36mget_loc\u001b[1;34m(self, key, method, tolerance)\u001b[0m\n\u001b[0;32m   2657\u001b[0m                 \u001b[1;32mreturn\u001b[0m \u001b[0mself\u001b[0m\u001b[1;33m.\u001b[0m\u001b[0m_engine\u001b[0m\u001b[1;33m.\u001b[0m\u001b[0mget_loc\u001b[0m\u001b[1;33m(\u001b[0m\u001b[0mkey\u001b[0m\u001b[1;33m)\u001b[0m\u001b[1;33m\u001b[0m\u001b[1;33m\u001b[0m\u001b[0m\n\u001b[0;32m   2658\u001b[0m             \u001b[1;32mexcept\u001b[0m \u001b[0mKeyError\u001b[0m\u001b[1;33m:\u001b[0m\u001b[1;33m\u001b[0m\u001b[1;33m\u001b[0m\u001b[0m\n\u001b[1;32m-> 2659\u001b[1;33m                 \u001b[1;32mreturn\u001b[0m \u001b[0mself\u001b[0m\u001b[1;33m.\u001b[0m\u001b[0m_engine\u001b[0m\u001b[1;33m.\u001b[0m\u001b[0mget_loc\u001b[0m\u001b[1;33m(\u001b[0m\u001b[0mself\u001b[0m\u001b[1;33m.\u001b[0m\u001b[0m_maybe_cast_indexer\u001b[0m\u001b[1;33m(\u001b[0m\u001b[0mkey\u001b[0m\u001b[1;33m)\u001b[0m\u001b[1;33m)\u001b[0m\u001b[1;33m\u001b[0m\u001b[1;33m\u001b[0m\u001b[0m\n\u001b[0m\u001b[0;32m   2660\u001b[0m         \u001b[0mindexer\u001b[0m \u001b[1;33m=\u001b[0m \u001b[0mself\u001b[0m\u001b[1;33m.\u001b[0m\u001b[0mget_indexer\u001b[0m\u001b[1;33m(\u001b[0m\u001b[1;33m[\u001b[0m\u001b[0mkey\u001b[0m\u001b[1;33m]\u001b[0m\u001b[1;33m,\u001b[0m \u001b[0mmethod\u001b[0m\u001b[1;33m=\u001b[0m\u001b[0mmethod\u001b[0m\u001b[1;33m,\u001b[0m \u001b[0mtolerance\u001b[0m\u001b[1;33m=\u001b[0m\u001b[0mtolerance\u001b[0m\u001b[1;33m)\u001b[0m\u001b[1;33m\u001b[0m\u001b[1;33m\u001b[0m\u001b[0m\n\u001b[0;32m   2661\u001b[0m         \u001b[1;32mif\u001b[0m \u001b[0mindexer\u001b[0m\u001b[1;33m.\u001b[0m\u001b[0mndim\u001b[0m \u001b[1;33m>\u001b[0m \u001b[1;36m1\u001b[0m \u001b[1;32mor\u001b[0m \u001b[0mindexer\u001b[0m\u001b[1;33m.\u001b[0m\u001b[0msize\u001b[0m \u001b[1;33m>\u001b[0m \u001b[1;36m1\u001b[0m\u001b[1;33m:\u001b[0m\u001b[1;33m\u001b[0m\u001b[1;33m\u001b[0m\u001b[0m\n",
      "\u001b[1;32mpandas/_libs/index.pyx\u001b[0m in \u001b[0;36mpandas._libs.index.IndexEngine.get_loc\u001b[1;34m()\u001b[0m\n",
      "\u001b[1;32mpandas/_libs/index.pyx\u001b[0m in \u001b[0;36mpandas._libs.index.IndexEngine.get_loc\u001b[1;34m()\u001b[0m\n",
      "\u001b[1;32mpandas/_libs/hashtable_class_helper.pxi\u001b[0m in \u001b[0;36mpandas._libs.hashtable.PyObjectHashTable.get_item\u001b[1;34m()\u001b[0m\n",
      "\u001b[1;32mpandas/_libs/hashtable_class_helper.pxi\u001b[0m in \u001b[0;36mpandas._libs.hashtable.PyObjectHashTable.get_item\u001b[1;34m()\u001b[0m\n",
      "\u001b[1;31mKeyError\u001b[0m: 'Order Date'"
     ]
    }
   ],
   "source": [
    "furniture = furniture.set_index('Order Date')\n"
   ]
  },
  {
   "cell_type": "code",
   "execution_count": 24,
   "metadata": {},
   "outputs": [
    {
     "data": {
      "text/html": [
       "<div>\n",
       "<style scoped>\n",
       "    .dataframe tbody tr th:only-of-type {\n",
       "        vertical-align: middle;\n",
       "    }\n",
       "\n",
       "    .dataframe tbody tr th {\n",
       "        vertical-align: top;\n",
       "    }\n",
       "\n",
       "    .dataframe thead th {\n",
       "        text-align: right;\n",
       "    }\n",
       "</style>\n",
       "<table border=\"1\" class=\"dataframe\">\n",
       "  <thead>\n",
       "    <tr style=\"text-align: right;\">\n",
       "      <th></th>\n",
       "      <th>Sales</th>\n",
       "    </tr>\n",
       "    <tr>\n",
       "      <th>Order Date</th>\n",
       "      <th></th>\n",
       "    </tr>\n",
       "  </thead>\n",
       "  <tbody>\n",
       "    <tr>\n",
       "      <th>2014-01-06</th>\n",
       "      <td>2573.820</td>\n",
       "    </tr>\n",
       "    <tr>\n",
       "      <th>2014-01-07</th>\n",
       "      <td>76.728</td>\n",
       "    </tr>\n",
       "    <tr>\n",
       "      <th>2014-01-10</th>\n",
       "      <td>51.940</td>\n",
       "    </tr>\n",
       "    <tr>\n",
       "      <th>2014-01-11</th>\n",
       "      <td>9.940</td>\n",
       "    </tr>\n",
       "    <tr>\n",
       "      <th>2014-01-13</th>\n",
       "      <td>879.939</td>\n",
       "    </tr>\n",
       "  </tbody>\n",
       "</table>\n",
       "</div>"
      ],
      "text/plain": [
       "               Sales\n",
       "Order Date          \n",
       "2014-01-06  2573.820\n",
       "2014-01-07    76.728\n",
       "2014-01-10    51.940\n",
       "2014-01-11     9.940\n",
       "2014-01-13   879.939"
      ]
     },
     "execution_count": 24,
     "metadata": {},
     "output_type": "execute_result"
    }
   ],
   "source": [
    "furniture.head()"
   ]
  },
  {
   "cell_type": "code",
   "execution_count": 25,
   "metadata": {},
   "outputs": [],
   "source": [
    "## we will resample the data as is not equal intervals\n",
    "y = furniture['Sales'].resample('MS').mean()"
   ]
  },
  {
   "cell_type": "code",
   "execution_count": 26,
   "metadata": {},
   "outputs": [
    {
     "data": {
      "text/plain": [
       "Order Date\n",
       "2014-01-01     480.194231\n",
       "2014-02-01     367.931600\n",
       "2014-03-01     857.291529\n",
       "2014-04-01     567.488357\n",
       "2014-05-01     432.049188\n",
       "2014-06-01     695.059242\n",
       "2014-07-01     601.169500\n",
       "2014-08-01     457.521656\n",
       "2014-09-01     992.353367\n",
       "2014-10-01     769.015437\n",
       "2014-11-01     980.221486\n",
       "2014-12-01    1532.298325\n",
       "2015-01-01     978.328467\n",
       "2015-02-01     522.395667\n",
       "2015-03-01     781.236437\n",
       "2015-04-01     805.822962\n",
       "2015-05-01     624.996700\n",
       "2015-06-01     428.565500\n",
       "2015-07-01     719.706316\n",
       "2015-08-01     602.412012\n",
       "2015-09-01    1382.790684\n",
       "2015-10-01     632.980184\n",
       "2015-11-01    1286.701354\n",
       "2015-12-01    1049.355418\n",
       "2016-01-01     508.182867\n",
       "2016-02-01     356.868273\n",
       "2016-03-01     609.575810\n",
       "2016-04-01     695.373158\n",
       "2016-05-01     687.265227\n",
       "2016-06-01     816.910750\n",
       "2016-07-01     768.736412\n",
       "2016-08-01     734.307782\n",
       "2016-09-01    1135.953371\n",
       "2016-10-01     624.872474\n",
       "2016-11-01    1271.345152\n",
       "2016-12-01    1410.719808\n",
       "2017-01-01     397.602133\n",
       "2017-02-01     528.179800\n",
       "2017-03-01     544.672240\n",
       "2017-04-01     453.297905\n",
       "2017-05-01     678.302328\n",
       "2017-06-01     826.460291\n",
       "2017-07-01     562.524857\n",
       "2017-08-01     857.881889\n",
       "2017-09-01    1209.508583\n",
       "2017-10-01     875.362728\n",
       "2017-11-01    1277.817759\n",
       "2017-12-01    1256.298672\n",
       "Freq: MS, Name: Sales, dtype: float64"
      ]
     },
     "execution_count": 26,
     "metadata": {},
     "output_type": "execute_result"
    }
   ],
   "source": [
    "y"
   ]
  },
  {
   "cell_type": "code",
   "execution_count": 27,
   "metadata": {},
   "outputs": [
    {
     "data": {
      "text/plain": [
       "(48,)"
      ]
     },
     "execution_count": 27,
     "metadata": {},
     "output_type": "execute_result"
    }
   ],
   "source": [
    "y.shape ## $ years data we have so 48 month is your observation "
   ]
  },
  {
   "cell_type": "code",
   "execution_count": 28,
   "metadata": {},
   "outputs": [
    {
     "data": {
      "image/png": "[encoded data removed]",
      "text/plain": [
       "<Figure size 720x432 with 1 Axes>"
      ]
     },
     "metadata": {
      "needs_background": "light"
     },
     "output_type": "display_data"
    }
   ],
   "source": [
    "y.plot(figsize=(10,6))\n",
    "plt.show()"
   ]
  },
  {
   "cell_type": "code",
   "execution_count": 30,
   "metadata": {},
   "outputs": [
    {
     "data": {
      "text/plain": [
       "Order Date\n",
       "2017-08-01     857.881889\n",
       "2017-09-01    1209.508583\n",
       "2017-10-01     875.362728\n",
       "2017-11-01    1277.817759\n",
       "2017-12-01    1256.298672\n",
       "Freq: MS, Name: Sales, dtype: float64"
      ]
     },
     "execution_count": 30,
     "metadata": {},
     "output_type": "execute_result"
    }
   ],
   "source": [
    "train =y.loc[:'2016-12-01']\n",
    "train.tail()\n",
    "\n",
    "test=y.loc['2017-01-01':]\n",
    "test.tail()\n",
    "## loc mean fetch particular location "
   ]
  },
  {
   "cell_type": "code",
   "execution_count": 32,
   "metadata": {},
   "outputs": [
    {
     "data": {
      "image/png": "[encoded data removed]",
      "text/plain": [
       "<Figure size 720x432 with 1 Axes>"
      ]
     },
     "metadata": {
      "needs_background": "light"
     },
     "output_type": "display_data"
    }
   ],
   "source": [
    "## plotting data\n",
    "train.plot(figsize=(10,6), title= 'Average Sales', fontsize=14)\n",
    "test.plot(figsize=(10,6), title= 'Average Sales', fontsize=14)\n",
    "plt.show()"
   ]
  },
  {
   "cell_type": "code",
   "execution_count": 33,
   "metadata": {},
   "outputs": [],
   "source": [
    "## our data is ready here. the preprocessing is done \n",
    "# now we applt different models on the data "
   ]
  },
  {
   "cell_type": "code",
   "execution_count": 38,
   "metadata": {},
   "outputs": [
    {
     "data": {
      "image/png": "[encoded data removed]",
      "text/plain": [
       "<Figure size 720x432 with 1 Axes>"
      ]
     },
     "metadata": {
      "needs_background": "light"
     },
     "output_type": "display_data"
    }
   ],
   "source": [
    "from statsmodels.tsa.api import SimpleExpSmoothing \n",
    "Exp_Smooth = test.copy()\n",
    "fit1 = SimpleExpSmoothing(train).fit(smoothing_level=0.1) ## the value 0 gives us simple average.\n",
    "## values close to 1 considers nly the latest data. I.e only the recent values is imp and same is considered \n",
    "Exp_Smooth['SES'] = fit1.forecast(len(test))\n",
    "\n",
    "train.plot(figsize=(10,6), title= 'Average Sales', fontsize=14)\n",
    "test.plot(figsize=(10,6), title= 'Average Sales', fontsize=14)\n",
    "Exp_Smooth['SES'].plot(figsize=(10,6), title= 'Average Sales', fontsize=14)\n",
    "plt.show()"
   ]
  },
  {
   "cell_type": "code",
   "execution_count": 39,
   "metadata": {},
   "outputs": [
    {
     "name": "stdout",
     "output_type": "stream",
     "text": [
      "316.3327190200752\n"
     ]
    }
   ],
   "source": [
    "from sklearn.metrics import mean_squared_error\n",
    "from math import sqrt \n",
    "rms = sqrt(mean_squared_error(test, Exp_Smooth.SES))\n",
    "print(rms)"
   ]
  },
  {
   "cell_type": "code",
   "execution_count": 40,
   "metadata": {},
   "outputs": [],
   "source": [
    "## there is error in the model. so this mode is nt suitable . our data has seasonality."
   ]
  },
  {
   "cell_type": "code",
   "execution_count": 41,
   "metadata": {},
   "outputs": [
    {
     "data": {
      "image/png": "[encoded data removed]",
      "text/plain": [
       "<Figure size 432x288 with 4 Axes>"
      ]
     },
     "metadata": {
      "needs_background": "light"
     },
     "output_type": "display_data"
    }
   ],
   "source": [
    "import statsmodels.api as sm\n",
    "decomposition = sm.tsa.seasonal_decompose(y)\n",
    "fig= decomposition.plot()\n",
    "plt.show()"
   ]
  },
  {
   "cell_type": "markdown",
   "metadata": {},
   "source": [
    "In this the observe shows the normal graph.\n",
    "the trend if there is a linear growth and depression then there is a trend in the data. in out case there is no trend.\n",
    "as the graph is scaterred \n",
    "Seasonal graph is ip. the grah is repeated so seasonality is present in the data. \n",
    "Use Holts Linear trend in case f trend present \n",
    "Use holts winter model n case of seasonality present in the data "
   ]
  },
  {
   "cell_type": "code",
   "execution_count": 46,
   "metadata": {},
   "outputs": [
    {
     "data": {
      "image/png": "[encoded data removed]",
      "text/plain": [
       "<Figure size 720x432 with 1 Axes>"
      ]
     },
     "metadata": {
      "needs_background": "light"
     },
     "output_type": "display_data"
    }
   ],
   "source": [
    "from statsmodels.tsa.api import Holt \n",
    "Holt_df = test.copy() \n",
    "\n",
    "fit1 = Holt(train).fit(smoothing_level= 0.1, smoothing_slope = 0.01)\n",
    "Holt_df['Holt_linear']= fit1.forecast(len(test))\n",
    "\n",
    "train.plot(figsize=(10,6), title= 'Average Sales', fontsize=14)\n",
    "test.plot(figsize=(10,6), title= 'Average Sales', fontsize=14)\n",
    "Holt_df['Holt_linear'].plot(figsize=(10,6), title= 'Average Sales', fontsize=14)\n",
    "plt.show()"
   ]
  },
  {
   "cell_type": "code",
   "execution_count": 53,
   "metadata": {},
   "outputs": [
    {
     "name": "stdout",
     "output_type": "stream",
     "text": [
      "364.3217883534247\n"
     ]
    }
   ],
   "source": [
    " from sklearn.metrics import mean_squared_error\n",
    "from math import sqrt \n",
    "rms = sqrt(mean_squared_error(test, Holt_df['Holt_linear']))\n",
    "print(rms)"
   ]
  },
  {
   "cell_type": "code",
   "execution_count": 51,
   "metadata": {},
   "outputs": [
    {
     "name": "stderr",
     "output_type": "stream",
     "text": [
      "C:\\Users\\Personal\\Anaconda3\\lib\\site-packages\\statsmodels\\tsa\\holtwinters.py:711: ConvergenceWarning: Optimization failed to converge. Check mle_retvals.\n",
      "  ConvergenceWarning)\n"
     ]
    },
    {
     "data": {
      "image/png": "[encoded data removed]",
      "text/plain": [
       "<Figure size 720x432 with 1 Axes>"
      ]
     },
     "metadata": {
      "needs_background": "light"
     },
     "output_type": "display_data"
    }
   ],
   "source": [
    "from statsmodels.tsa.api import ExponentialSmoothing\n",
    "Holt_Winter_df = test.copy() \n",
    "\n",
    "fit1 = ExponentialSmoothing(train,seasonal_periods=12,trend='add',seasonal = 'add').fit()\n",
    "Holt_Winter_df['Holt_Winter']= fit1.forecast(len(test))\n",
    "\n",
    "train.plot(figsize=(10,6), title= 'Average Sales', fontsize=14)\n",
    "test.plot(figsize=(10,6), title= 'Average Sales', fontsize=14)\n",
    "Holt_Winter_df['Holt_Winter'].plot(figsize=(10,6), title= 'Average Sales', fontsize=14)\n",
    "plt.show()"
   ]
  },
  {
   "cell_type": "code",
   "execution_count": 52,
   "metadata": {},
   "outputs": [
    {
     "name": "stdout",
     "output_type": "stream",
     "text": [
      "193.9119904555351\n"
     ]
    }
   ],
   "source": [
    " from sklearn.metrics import mean_squared_error\n",
    "from math import sqrt \n",
    "rms = sqrt(mean_squared_error(test, Holt_Winter_df['Holt_Winter']))\n",
    "print(rms)"
   ]
  },
  {
   "cell_type": "code",
   "execution_count": 54,
   "metadata": {},
   "outputs": [
    {
     "name": "stdout",
     "output_type": "stream",
     "text": [
      "ADF Statistic -5.191070187339268\n",
      "p-values:0.000009\n"
     ]
    }
   ],
   "source": [
    " ## Checking stationarity \n",
    "from statsmodels.tsa.stattools import adfuller \n",
    "result = adfuller(y)\n",
    "print('ADF Statistic',result[0])\n",
    "print('p-values:%f' % result[1])\n",
    "\n",
    "## this is to check the assumption using ADFuller test \n",
    "H0= the data stationary is non stationary \n",
    "H1= the data is stationary "
   ]
  },
  {
   "cell_type": "code",
   "execution_count": null,
   "metadata": {},
   "outputs": [],
   "source": [
    "\"\"\"f= furniture.diff(period=1)\n",
    "f.plot(figsize=(10,6))\n",
    "plt.show\"\"\"\n",
    "## thi code is used if the p value is greater than 1. and there is non stationarity in the data"
   ]
  },
  {
   "cell_type": "code",
   "execution_count": 55,
   "metadata": {},
   "outputs": [
    {
     "name": "stdout",
     "output_type": "stream",
     "text": [
      "SARIMAX: (0, 0, 0) x (0, 0, 0, 12)\n"
     ]
    }
   ],
   "source": [
    "import itertools\n",
    "p = d = q = range(0, 3)\n",
    "pdq = list(itertools.product(p, d, q))\n",
    "seasonal_pdq = [(x[0], x[1], x[2], 12) for x in list(itertools.product(p, d, q))]\n",
    "\n",
    "print('SARIMAX:',pdq[0],'x', seasonal_pdq[0])"
   ]
  },
  {
   "cell_type": "code",
   "execution_count": 56,
   "metadata": {},
   "outputs": [
    {
     "data": {
      "text/plain": [
       "[(0, 0, 0),\n",
       " (0, 0, 1),\n",
       " (0, 0, 2),\n",
       " (0, 1, 0),\n",
       " (0, 1, 1),\n",
       " (0, 1, 2),\n",
       " (0, 2, 0),\n",
       " (0, 2, 1),\n",
       " (0, 2, 2),\n",
       " (1, 0, 0),\n",
       " (1, 0, 1),\n",
       " (1, 0, 2),\n",
       " (1, 1, 0),\n",
       " (1, 1, 1),\n",
       " (1, 1, 2),\n",
       " (1, 2, 0),\n",
       " (1, 2, 1),\n",
       " (1, 2, 2),\n",
       " (2, 0, 0),\n",
       " (2, 0, 1),\n",
       " (2, 0, 2),\n",
       " (2, 1, 0),\n",
       " (2, 1, 1),\n",
       " (2, 1, 2),\n",
       " (2, 2, 0),\n",
       " (2, 2, 1),\n",
       " (2, 2, 2)]"
      ]
     },
     "execution_count": 56,
     "metadata": {},
     "output_type": "execute_result"
    }
   ],
   "source": [
    "pdq"
   ]
  },
  {
   "cell_type": "code",
   "execution_count": 57,
   "metadata": {},
   "outputs": [
    {
     "data": {
      "text/plain": [
       "[(0, 0, 0, 12),\n",
       " (0, 0, 1, 12),\n",
       " (0, 0, 2, 12),\n",
       " (0, 1, 0, 12),\n",
       " (0, 1, 1, 12),\n",
       " (0, 1, 2, 12),\n",
       " (0, 2, 0, 12),\n",
       " (0, 2, 1, 12),\n",
       " (0, 2, 2, 12),\n",
       " (1, 0, 0, 12),\n",
       " (1, 0, 1, 12),\n",
       " (1, 0, 2, 12),\n",
       " (1, 1, 0, 12),\n",
       " (1, 1, 1, 12),\n",
       " (1, 1, 2, 12),\n",
       " (1, 2, 0, 12),\n",
       " (1, 2, 1, 12),\n",
       " (1, 2, 2, 12),\n",
       " (2, 0, 0, 12),\n",
       " (2, 0, 1, 12),\n",
       " (2, 0, 2, 12),\n",
       " (2, 1, 0, 12),\n",
       " (2, 1, 1, 12),\n",
       " (2, 1, 2, 12),\n",
       " (2, 2, 0, 12),\n",
       " (2, 2, 1, 12),\n",
       " (2, 2, 2, 12)]"
      ]
     },
     "execution_count": 57,
     "metadata": {},
     "output_type": "execute_result"
    }
   ],
   "source": [
    "seasonal_pdq"
   ]
  },
  {
   "cell_type": "code",
   "execution_count": 60,
   "metadata": {},
   "outputs": [
    {
     "name": "stdout",
     "output_type": "stream",
     "text": [
      "ARIMA (0, 0, 0) x (0, 0, 0, 12)  - AIC: 769.0817523205916\n"
     ]
    },
    {
     "name": "stderr",
     "output_type": "stream",
     "text": [
      "C:\\Users\\Personal\\Anaconda3\\lib\\site-packages\\statsmodels\\base\\model.py:512: ConvergenceWarning: Maximum Likelihood optimization failed to converge. Check mle_retvals\n",
      "  \"Check mle_retvals\", ConvergenceWarning)\n"
     ]
    },
    {
     "name": "stdout",
     "output_type": "stream",
     "text": [
      "ARIMA (0, 0, 0) x (0, 0, 1, 12)  - AIC: 1514.6780122436314\n",
      "ARIMA (0, 0, 0) x (0, 1, 0, 12)  - AIC: 477.7170130920899\n",
      "ARIMA (0, 0, 0) x (0, 2, 0, 12)  - AIC: 336.9536604901001\n",
      "ARIMA (0, 0, 0) x (1, 0, 0, 12)  - AIC: 497.2314433418337\n",
      "ARIMA (0, 0, 0) x (1, 0, 1, 12)  - AIC: 1278.5924130508176\n",
      "ARIMA (0, 0, 0) x (1, 1, 0, 12)  - AIC: 318.0047199116341\n",
      "ARIMA (0, 0, 0) x (1, 2, 0, 12)  - AIC: 162.1202948716551\n",
      "ARIMA (0, 0, 0) x (2, 0, 0, 12)  - AIC: 319.96929434508735\n"
     ]
    },
    {
     "name": "stderr",
     "output_type": "stream",
     "text": [
      "C:\\Users\\Personal\\Anaconda3\\lib\\site-packages\\statsmodels\\base\\model.py:512: ConvergenceWarning: Maximum Likelihood optimization failed to converge. Check mle_retvals\n",
      "  \"Check mle_retvals\", ConvergenceWarning)\n"
     ]
    },
    {
     "name": "stdout",
     "output_type": "stream",
     "text": [
      "ARIMA (0, 0, 0) x (2, 0, 1, 12)  - AIC: 840.5582596168281\n",
      "ARIMA (0, 0, 0) x (2, 1, 0, 12)  - AIC: 159.5144730671919\n",
      "ARIMA (0, 0, 1) x (0, 0, 0, 12)  - AIC: 720.9252270758101\n",
      "ARIMA (0, 0, 1) x (0, 0, 1, 12)  - AIC: 2889.9101442085903\n",
      "ARIMA (0, 0, 1) x (0, 1, 0, 12)  - AIC: 466.5607429809134\n",
      "ARIMA (0, 0, 1) x (0, 2, 0, 12)  - AIC: 324.4135789669046\n"
     ]
    },
    {
     "name": "stderr",
     "output_type": "stream",
     "text": [
      "C:\\Users\\Personal\\Anaconda3\\lib\\site-packages\\statsmodels\\base\\model.py:512: ConvergenceWarning: Maximum Likelihood optimization failed to converge. Check mle_retvals\n",
      "  \"Check mle_retvals\", ConvergenceWarning)\n"
     ]
    },
    {
     "name": "stdout",
     "output_type": "stream",
     "text": [
      "ARIMA (0, 0, 1) x (1, 0, 0, 12)  - AIC: 499.58986311473944\n",
      "ARIMA (0, 0, 1) x (1, 0, 1, 12)  - AIC: 3971.1640177109284\n",
      "ARIMA (0, 0, 1) x (1, 1, 0, 12)  - AIC: 319.9884876946868\n",
      "ARIMA (0, 0, 1) x (1, 2, 0, 12)  - AIC: 163.9883442811086\n",
      "ARIMA (0, 0, 1) x (2, 0, 0, 12)  - AIC: 321.9645277031847\n"
     ]
    },
    {
     "name": "stderr",
     "output_type": "stream",
     "text": [
      "C:\\Users\\Personal\\Anaconda3\\lib\\site-packages\\statsmodels\\base\\model.py:512: ConvergenceWarning: Maximum Likelihood optimization failed to converge. Check mle_retvals\n",
      "  \"Check mle_retvals\", ConvergenceWarning)\n"
     ]
    },
    {
     "name": "stdout",
     "output_type": "stream",
     "text": [
      "ARIMA (0, 0, 1) x (2, 0, 1, 12)  - AIC: 704.1959413296133\n",
      "ARIMA (0, 0, 1) x (2, 1, 0, 12)  - AIC: 160.8541004925007\n",
      "ARIMA (0, 0, 2) x (0, 0, 0, 12)  - AIC: 695.9854310935204\n"
     ]
    },
    {
     "name": "stderr",
     "output_type": "stream",
     "text": [
      "C:\\Users\\Personal\\Anaconda3\\lib\\site-packages\\statsmodels\\base\\model.py:512: ConvergenceWarning: Maximum Likelihood optimization failed to converge. Check mle_retvals\n",
      "  \"Check mle_retvals\", ConvergenceWarning)\n"
     ]
    },
    {
     "name": "stdout",
     "output_type": "stream",
     "text": [
      "ARIMA (0, 0, 2) x (0, 0, 1, 12)  - AIC: 2650.469462200407\n",
      "ARIMA (0, 0, 2) x (0, 1, 0, 12)  - AIC: 455.2093474618747\n",
      "ARIMA (0, 0, 2) x (0, 2, 0, 12)  - AIC: 311.84173857254183\n"
     ]
    },
    {
     "name": "stderr",
     "output_type": "stream",
     "text": [
      "C:\\Users\\Personal\\Anaconda3\\lib\\site-packages\\statsmodels\\base\\model.py:512: ConvergenceWarning: Maximum Likelihood optimization failed to converge. Check mle_retvals\n",
      "  \"Check mle_retvals\", ConvergenceWarning)\n"
     ]
    },
    {
     "name": "stdout",
     "output_type": "stream",
     "text": [
      "ARIMA (0, 0, 2) x (1, 0, 0, 12)  - AIC: 500.9623664991189\n",
      "ARIMA (0, 0, 2) x (1, 0, 1, 12)  - AIC: 2727.911111870839\n",
      "ARIMA (0, 0, 2) x (1, 1, 0, 12)  - AIC: 321.8800584473872\n",
      "ARIMA (0, 0, 2) x (1, 2, 0, 12)  - AIC: 164.18237611998197\n",
      "ARIMA (0, 0, 2) x (2, 0, 0, 12)  - AIC: 323.58227595489234\n"
     ]
    },
    {
     "name": "stderr",
     "output_type": "stream",
     "text": [
      "C:\\Users\\Personal\\Anaconda3\\lib\\site-packages\\statsmodels\\base\\model.py:512: ConvergenceWarning: Maximum Likelihood optimization failed to converge. Check mle_retvals\n",
      "  \"Check mle_retvals\", ConvergenceWarning)\n"
     ]
    },
    {
     "name": "stdout",
     "output_type": "stream",
     "text": [
      "ARIMA (0, 0, 2) x (2, 0, 1, 12)  - AIC: 584.12589976943\n",
      "ARIMA (0, 0, 2) x (2, 1, 0, 12)  - AIC: 163.5781953087256\n",
      "ARIMA (0, 1, 0) x (0, 0, 0, 12)  - AIC: 677.894766843944\n"
     ]
    },
    {
     "name": "stderr",
     "output_type": "stream",
     "text": [
      "C:\\Users\\Personal\\Anaconda3\\lib\\site-packages\\statsmodels\\base\\model.py:512: ConvergenceWarning: Maximum Likelihood optimization failed to converge. Check mle_retvals\n",
      "  \"Check mle_retvals\", ConvergenceWarning)\n"
     ]
    },
    {
     "name": "stdout",
     "output_type": "stream",
     "text": [
      "ARIMA (0, 1, 0) x (0, 0, 1, 12)  - AIC: 1406.596925216203\n",
      "ARIMA (0, 1, 0) x (0, 1, 0, 12)  - AIC: 486.63785672282035\n",
      "ARIMA (0, 1, 0) x (0, 2, 0, 12)  - AIC: 334.9778122945746\n",
      "ARIMA (0, 1, 0) x (1, 0, 0, 12)  - AIC: 497.78896630044073\n"
     ]
    },
    {
     "name": "stderr",
     "output_type": "stream",
     "text": [
      "C:\\Users\\Personal\\Anaconda3\\lib\\site-packages\\statsmodels\\base\\model.py:512: ConvergenceWarning: Maximum Likelihood optimization failed to converge. Check mle_retvals\n",
      "  \"Check mle_retvals\", ConvergenceWarning)\n"
     ]
    },
    {
     "name": "stdout",
     "output_type": "stream",
     "text": [
      "ARIMA (0, 1, 0) x (1, 0, 1, 12)  - AIC: 1397.8330595721065\n",
      "ARIMA (0, 1, 0) x (1, 1, 0, 12)  - AIC: 319.7714068109212\n",
      "ARIMA (0, 1, 0) x (1, 2, 0, 12)  - AIC: 152.4285210659633\n",
      "ARIMA (0, 1, 0) x (2, 0, 0, 12)  - AIC: 317.69402237661177\n"
     ]
    },
    {
     "name": "stderr",
     "output_type": "stream",
     "text": [
      "C:\\Users\\Personal\\Anaconda3\\lib\\site-packages\\statsmodels\\base\\model.py:512: ConvergenceWarning: Maximum Likelihood optimization failed to converge. Check mle_retvals\n",
      "  \"Check mle_retvals\", ConvergenceWarning)\n"
     ]
    },
    {
     "name": "stdout",
     "output_type": "stream",
     "text": [
      "ARIMA (0, 1, 0) x (2, 0, 1, 12)  - AIC: 814.4091162671095\n",
      "ARIMA (0, 1, 0) x (2, 1, 0, 12)  - AIC: 153.33829187964872\n",
      "ARIMA (0, 1, 1) x (0, 0, 0, 12)  - AIC: 649.9056176816952\n",
      "ARIMA (0, 1, 1) x (0, 0, 1, 12)  - AIC: 3221.0959266435943\n",
      "ARIMA (0, 1, 1) x (0, 1, 0, 12)  - AIC: 458.87055484828716\n",
      "ARIMA (0, 1, 1) x (0, 2, 0, 12)  - AIC: 317.19576972399386\n",
      "ARIMA (0, 1, 1) x (1, 0, 0, 12)  - AIC: 486.1832977442659\n",
      "ARIMA (0, 1, 1) x (1, 0, 1, 12)  - AIC: 2781.105452654657\n",
      "ARIMA (0, 1, 1) x (1, 1, 0, 12)  - AIC: 310.7574368417435\n",
      "ARIMA (0, 1, 1) x (1, 2, 0, 12)  - AIC: 154.41754102592725\n",
      "ARIMA (0, 1, 1) x (2, 0, 0, 12)  - AIC: 311.8590674241112\n"
     ]
    },
    {
     "name": "stderr",
     "output_type": "stream",
     "text": [
      "C:\\Users\\Personal\\Anaconda3\\lib\\site-packages\\statsmodels\\base\\model.py:512: ConvergenceWarning: Maximum Likelihood optimization failed to converge. Check mle_retvals\n",
      "  \"Check mle_retvals\", ConvergenceWarning)\n"
     ]
    },
    {
     "name": "stdout",
     "output_type": "stream",
     "text": [
      "ARIMA (0, 1, 1) x (2, 0, 1, 12)  - AIC: 834.7593013360722\n",
      "ARIMA (0, 1, 1) x (2, 1, 0, 12)  - AIC: 149.5722736932216\n",
      "ARIMA (0, 1, 2) x (0, 0, 0, 12)  - AIC: 634.8844283595787\n",
      "ARIMA (0, 1, 2) x (0, 0, 1, 12)  - AIC: 2532.594622232622\n",
      "ARIMA (0, 1, 2) x (0, 1, 0, 12)  - AIC: 447.5857396952845\n",
      "ARIMA (0, 1, 2) x (0, 2, 0, 12)  - AIC: 305.03445359435227\n",
      "ARIMA (0, 1, 2) x (1, 0, 0, 12)  - AIC: 487.4986912678521\n"
     ]
    },
    {
     "name": "stderr",
     "output_type": "stream",
     "text": [
      "C:\\Users\\Personal\\Anaconda3\\lib\\site-packages\\statsmodels\\base\\model.py:512: ConvergenceWarning: Maximum Likelihood optimization failed to converge. Check mle_retvals\n",
      "  \"Check mle_retvals\", ConvergenceWarning)\n"
     ]
    },
    {
     "name": "stdout",
     "output_type": "stream",
     "text": [
      "ARIMA (0, 1, 2) x (1, 0, 1, 12)  - AIC: nan\n",
      "ARIMA (0, 1, 2) x (1, 1, 0, 12)  - AIC: 310.7338930724529\n",
      "ARIMA (0, 1, 2) x (1, 2, 0, 12)  - AIC: 154.69701034326948\n",
      "ARIMA (0, 1, 2) x (2, 0, 0, 12)  - AIC: 313.4823847170268\n"
     ]
    },
    {
     "name": "stderr",
     "output_type": "stream",
     "text": [
      "C:\\Users\\Personal\\Anaconda3\\lib\\site-packages\\statsmodels\\base\\model.py:512: ConvergenceWarning: Maximum Likelihood optimization failed to converge. Check mle_retvals\n",
      "  \"Check mle_retvals\", ConvergenceWarning)\n"
     ]
    },
    {
     "name": "stdout",
     "output_type": "stream",
     "text": [
      "ARIMA (0, 1, 2) x (2, 0, 1, 12)  - AIC: 801.7336719517521\n",
      "ARIMA (0, 1, 2) x (2, 1, 0, 12)  - AIC: 151.19056459378658\n",
      "ARIMA (0, 2, 0) x (0, 0, 0, 12)  - AIC: 710.1125557113788\n",
      "ARIMA (0, 2, 0) x (0, 0, 1, 12)  - AIC: 1196.8664252484969\n",
      "ARIMA (0, 2, 0) x (0, 1, 0, 12)  - AIC: 509.8968095204387\n",
      "ARIMA (0, 2, 0) x (0, 2, 0, 12)  - AIC: 342.95442005150744\n",
      "ARIMA (0, 2, 0) x (1, 0, 0, 12)  - AIC: 520.887712617653\n"
     ]
    },
    {
     "name": "stderr",
     "output_type": "stream",
     "text": [
      "C:\\Users\\Personal\\Anaconda3\\lib\\site-packages\\statsmodels\\base\\model.py:512: ConvergenceWarning: Maximum Likelihood optimization failed to converge. Check mle_retvals\n",
      "  \"Check mle_retvals\", ConvergenceWarning)\n"
     ]
    },
    {
     "name": "stdout",
     "output_type": "stream",
     "text": [
      "ARIMA (0, 2, 0) x (1, 0, 1, 12)  - AIC: 1160.793584255727\n",
      "ARIMA (0, 2, 0) x (1, 1, 0, 12)  - AIC: 331.25048446851144\n",
      "ARIMA (0, 2, 0) x (1, 2, 0, 12)  - AIC: 141.68398673297656\n",
      "ARIMA (0, 2, 0) x (2, 0, 0, 12)  - AIC: 327.5955004314904\n"
     ]
    },
    {
     "name": "stderr",
     "output_type": "stream",
     "text": [
      "C:\\Users\\Personal\\Anaconda3\\lib\\site-packages\\statsmodels\\base\\model.py:512: ConvergenceWarning: Maximum Likelihood optimization failed to converge. Check mle_retvals\n",
      "  \"Check mle_retvals\", ConvergenceWarning)\n"
     ]
    },
    {
     "name": "stdout",
     "output_type": "stream",
     "text": [
      "ARIMA (0, 2, 0) x (2, 0, 1, 12)  - AIC: 635.0916630954874\n",
      "ARIMA (0, 2, 0) x (2, 1, 0, 12)  - AIC: 143.5274498286223\n",
      "ARIMA (0, 2, 1) x (0, 0, 0, 12)  - AIC: 652.8685965207469\n",
      "ARIMA (0, 2, 1) x (0, 0, 1, 12)  - AIC: 2369.7481154248126\n",
      "ARIMA (0, 2, 1) x (0, 1, 0, 12)  - AIC: 463.03465442793424\n",
      "ARIMA (0, 2, 1) x (0, 2, 0, 12)  - AIC: 310.3285223972212\n",
      "ARIMA (0, 2, 1) x (1, 0, 0, 12)  - AIC: 489.94585607344055\n",
      "ARIMA (0, 2, 1) x (1, 0, 1, 12)  - AIC: 2265.8940291844797\n",
      "ARIMA (0, 2, 1) x (1, 1, 0, 12)  - AIC: 310.9864728692708\n",
      "ARIMA (0, 2, 1) x (1, 2, 0, 12)  - AIC: 143.2793591047776\n",
      "ARIMA (0, 2, 1) x (2, 0, 0, 12)  - AIC: 310.50562447091534\n",
      "ARIMA (0, 2, 1) x (2, 0, 1, 12)  - AIC: 733.0352585296505\n",
      "ARIMA (0, 2, 1) x (2, 1, 0, 12)  - AIC: 142.2987308934721\n",
      "ARIMA (0, 2, 2) x (0, 0, 0, 12)  - AIC: 628.8859101992637\n"
     ]
    },
    {
     "name": "stderr",
     "output_type": "stream",
     "text": [
      "C:\\Users\\Personal\\Anaconda3\\lib\\site-packages\\statsmodels\\base\\model.py:512: ConvergenceWarning: Maximum Likelihood optimization failed to converge. Check mle_retvals\n",
      "  \"Check mle_retvals\", ConvergenceWarning)\n"
     ]
    },
    {
     "name": "stdout",
     "output_type": "stream",
     "text": [
      "ARIMA (0, 2, 2) x (0, 0, 1, 12)  - AIC: nan\n",
      "ARIMA (0, 2, 2) x (0, 1, 0, 12)  - AIC: 440.180344182971\n",
      "ARIMA (0, 2, 2) x (0, 2, 0, 12)  - AIC: 294.74667970541896\n",
      "ARIMA (0, 2, 2) x (1, 0, 0, 12)  - AIC: 482.90037027094917\n",
      "ARIMA (0, 2, 2) x (1, 0, 1, 12)  - AIC: 2543.944422471204\n",
      "ARIMA (0, 2, 2) x (1, 1, 0, 12)  - AIC: 305.8984452613102\n",
      "ARIMA (0, 2, 2) x (1, 2, 0, 12)  - AIC: 145.5934640684629\n",
      "ARIMA (0, 2, 2) x (2, 0, 0, 12)  - AIC: 306.32807721633714\n"
     ]
    },
    {
     "name": "stderr",
     "output_type": "stream",
     "text": [
      "C:\\Users\\Personal\\Anaconda3\\lib\\site-packages\\statsmodels\\base\\model.py:512: ConvergenceWarning: Maximum Likelihood optimization failed to converge. Check mle_retvals\n",
      "  \"Check mle_retvals\", ConvergenceWarning)\n"
     ]
    },
    {
     "name": "stdout",
     "output_type": "stream",
     "text": [
      "ARIMA (0, 2, 2) x (2, 0, 1, 12)  - AIC: 877.5820105914705\n"
     ]
    },
    {
     "name": "stderr",
     "output_type": "stream",
     "text": [
      "C:\\Users\\Personal\\Anaconda3\\lib\\site-packages\\statsmodels\\base\\model.py:512: ConvergenceWarning: Maximum Likelihood optimization failed to converge. Check mle_retvals\n",
      "  \"Check mle_retvals\", ConvergenceWarning)\n"
     ]
    },
    {
     "name": "stdout",
     "output_type": "stream",
     "text": [
      "ARIMA (0, 2, 2) x (2, 1, 0, 12)  - AIC: 140.87674256797132\n",
      "ARIMA (1, 0, 0) x (0, 0, 0, 12)  - AIC: 692.1645522067712\n"
     ]
    },
    {
     "name": "stderr",
     "output_type": "stream",
     "text": [
      "C:\\Users\\Personal\\Anaconda3\\lib\\site-packages\\statsmodels\\base\\model.py:512: ConvergenceWarning: Maximum Likelihood optimization failed to converge. Check mle_retvals\n",
      "  \"Check mle_retvals\", ConvergenceWarning)\n"
     ]
    },
    {
     "name": "stdout",
     "output_type": "stream",
     "text": [
      "ARIMA (1, 0, 0) x (0, 0, 1, 12)  - AIC: 1396.3751298954319\n",
      "ARIMA (1, 0, 0) x (0, 1, 0, 12)  - AIC: 479.46321478521355\n",
      "ARIMA (1, 0, 0) x (0, 2, 0, 12)  - AIC: 338.2224810186686\n",
      "ARIMA (1, 0, 0) x (1, 0, 0, 12)  - AIC: 480.9259367935188\n"
     ]
    },
    {
     "name": "stderr",
     "output_type": "stream",
     "text": [
      "C:\\Users\\Personal\\Anaconda3\\lib\\site-packages\\statsmodels\\base\\model.py:512: ConvergenceWarning: Maximum Likelihood optimization failed to converge. Check mle_retvals\n",
      "  \"Check mle_retvals\", ConvergenceWarning)\n"
     ]
    },
    {
     "name": "stdout",
     "output_type": "stream",
     "text": [
      "ARIMA (1, 0, 0) x (1, 0, 1, 12)  - AIC: 1137.1755559593887\n",
      "ARIMA (1, 0, 0) x (1, 1, 0, 12)  - AIC: 304.4664675084622\n",
      "ARIMA (1, 0, 0) x (1, 2, 0, 12)  - AIC: 151.38820367563238\n",
      "ARIMA (1, 0, 0) x (2, 0, 0, 12)  - AIC: 306.4639496842722\n"
     ]
    },
    {
     "name": "stderr",
     "output_type": "stream",
     "text": [
      "C:\\Users\\Personal\\Anaconda3\\lib\\site-packages\\statsmodels\\base\\model.py:512: ConvergenceWarning: Maximum Likelihood optimization failed to converge. Check mle_retvals\n",
      "  \"Check mle_retvals\", ConvergenceWarning)\n"
     ]
    },
    {
     "name": "stdout",
     "output_type": "stream",
     "text": [
      "ARIMA (1, 0, 0) x (2, 0, 1, 12)  - AIC: 513.6844842712874\n",
      "ARIMA (1, 0, 0) x (2, 1, 0, 12)  - AIC: 148.47129149085586\n",
      "ARIMA (1, 0, 1) x (0, 0, 0, 12)  - AIC: 665.7794442186457\n",
      "ARIMA (1, 0, 1) x (0, 0, 1, 12)  - AIC: 82072.43406271843\n",
      "ARIMA (1, 0, 1) x (0, 1, 0, 12)  - AIC: 468.3685195815003\n",
      "ARIMA (1, 0, 1) x (0, 2, 0, 12)  - AIC: 326.3604901193716\n",
      "ARIMA (1, 0, 1) x (1, 0, 0, 12)  - AIC: 482.57633238768824\n"
     ]
    },
    {
     "name": "stderr",
     "output_type": "stream",
     "text": [
      "C:\\Users\\Personal\\Anaconda3\\lib\\site-packages\\statsmodels\\base\\model.py:512: ConvergenceWarning: Maximum Likelihood optimization failed to converge. Check mle_retvals\n",
      "  \"Check mle_retvals\", ConvergenceWarning)\n"
     ]
    },
    {
     "name": "stdout",
     "output_type": "stream",
     "text": [
      "ARIMA (1, 0, 1) x (1, 0, 1, 12)  - AIC: 2571.364405487837\n",
      "ARIMA (1, 0, 1) x (1, 1, 0, 12)  - AIC: 306.0156002339114\n",
      "ARIMA (1, 0, 1) x (1, 2, 0, 12)  - AIC: 153.45916388419874\n",
      "ARIMA (1, 0, 1) x (2, 0, 0, 12)  - AIC: 309.7096567880171\n"
     ]
    },
    {
     "name": "stderr",
     "output_type": "stream",
     "text": [
      "C:\\Users\\Personal\\Anaconda3\\lib\\site-packages\\statsmodels\\base\\model.py:512: ConvergenceWarning: Maximum Likelihood optimization failed to converge. Check mle_retvals\n",
      "  \"Check mle_retvals\", ConvergenceWarning)\n"
     ]
    },
    {
     "name": "stdout",
     "output_type": "stream",
     "text": [
      "ARIMA (1, 0, 1) x (2, 0, 1, 12)  - AIC: 950.1449420926789\n",
      "ARIMA (1, 0, 1) x (2, 1, 0, 12)  - AIC: 148.64415332446373\n",
      "ARIMA (1, 0, 2) x (0, 0, 0, 12)  - AIC: 652.5371565505731\n",
      "ARIMA (1, 0, 2) x (0, 0, 1, 12)  - AIC: 2568.8849476783553\n",
      "ARIMA (1, 0, 2) x (0, 1, 0, 12)  - AIC: 454.51625971597934\n",
      "ARIMA (1, 0, 2) x (0, 2, 0, 12)  - AIC: 311.9686688260092\n",
      "ARIMA (1, 0, 2) x (1, 0, 0, 12)  - AIC: 483.943579631895\n",
      "ARIMA (1, 0, 2) x (1, 0, 1, 12)  - AIC: 210626.71763200854\n",
      "ARIMA (1, 0, 2) x (1, 1, 0, 12)  - AIC: 305.84607228991933\n"
     ]
    },
    {
     "name": "stderr",
     "output_type": "stream",
     "text": [
      "C:\\Users\\Personal\\Anaconda3\\lib\\site-packages\\statsmodels\\base\\model.py:512: ConvergenceWarning: Maximum Likelihood optimization failed to converge. Check mle_retvals\n",
      "  \"Check mle_retvals\", ConvergenceWarning)\n"
     ]
    },
    {
     "name": "stdout",
     "output_type": "stream",
     "text": [
      "ARIMA (1, 0, 2) x (1, 2, 0, 12)  - AIC: 153.23892088469103\n",
      "ARIMA (1, 0, 2) x (2, 0, 0, 12)  - AIC: 309.0066797267976\n"
     ]
    },
    {
     "name": "stderr",
     "output_type": "stream",
     "text": [
      "C:\\Users\\Personal\\Anaconda3\\lib\\site-packages\\statsmodels\\base\\model.py:512: ConvergenceWarning: Maximum Likelihood optimization failed to converge. Check mle_retvals\n",
      "  \"Check mle_retvals\", ConvergenceWarning)\n"
     ]
    },
    {
     "name": "stdout",
     "output_type": "stream",
     "text": [
      "ARIMA (1, 0, 2) x (2, 0, 1, 12)  - AIC: 791.2241108655907\n",
      "ARIMA (1, 0, 2) x (2, 1, 0, 12)  - AIC: 150.64208002376006\n",
      "ARIMA (1, 1, 0) x (0, 0, 0, 12)  - AIC: 671.2513547541902\n"
     ]
    },
    {
     "name": "stderr",
     "output_type": "stream",
     "text": [
      "C:\\Users\\Personal\\Anaconda3\\lib\\site-packages\\statsmodels\\base\\model.py:512: ConvergenceWarning: Maximum Likelihood optimization failed to converge. Check mle_retvals\n",
      "  \"Check mle_retvals\", ConvergenceWarning)\n"
     ]
    },
    {
     "name": "stdout",
     "output_type": "stream",
     "text": [
      "ARIMA (1, 1, 0) x (0, 0, 1, 12)  - AIC: 1314.1100682319766\n",
      "ARIMA (1, 1, 0) x (0, 1, 0, 12)  - AIC: 479.20034222811347\n",
      "ARIMA (1, 1, 0) x (0, 2, 0, 12)  - AIC: 332.39565976239567\n",
      "ARIMA (1, 1, 0) x (1, 0, 0, 12)  - AIC: 475.3403658785442\n",
      "ARIMA (1, 1, 0) x (1, 0, 1, 12)  - AIC: 1976.7901661845842\n",
      "ARIMA (1, 1, 0) x (1, 1, 0, 12)  - AIC: 300.62709013454287\n",
      "ARIMA (1, 1, 0) x (1, 2, 0, 12)  - AIC: 140.97940432820613\n",
      "ARIMA (1, 1, 0) x (2, 0, 0, 12)  - AIC: 301.76885242896225\n",
      "ARIMA (1, 1, 0) x (2, 0, 1, 12)  - AIC: 865.2508845882194\n",
      "ARIMA (1, 1, 0) x (2, 1, 0, 12)  - AIC: 141.03361172489127\n",
      "ARIMA (1, 1, 1) x (0, 0, 0, 12)  - AIC: 649.0318019834972\n",
      "ARIMA (1, 1, 1) x (0, 0, 1, 12)  - AIC: 8988.162807529261\n",
      "ARIMA (1, 1, 1) x (0, 1, 0, 12)  - AIC: 460.47626876099685\n",
      "ARIMA (1, 1, 1) x (0, 2, 0, 12)  - AIC: 317.9907754347609\n",
      "ARIMA (1, 1, 1) x (1, 0, 0, 12)  - AIC: 469.5250354660849\n",
      "ARIMA (1, 1, 1) x (1, 0, 1, 12)  - AIC: 2560.8204218020674\n",
      "ARIMA (1, 1, 1) x (1, 1, 0, 12)  - AIC: 297.78754395302315\n",
      "ARIMA (1, 1, 1) x (1, 2, 0, 12)  - AIC: 139.89884389567155\n",
      "ARIMA (1, 1, 1) x (2, 0, 0, 12)  - AIC: 304.81353214544407\n"
     ]
    },
    {
     "name": "stderr",
     "output_type": "stream",
     "text": [
      "C:\\Users\\Personal\\Anaconda3\\lib\\site-packages\\statsmodels\\base\\model.py:512: ConvergenceWarning: Maximum Likelihood optimization failed to converge. Check mle_retvals\n",
      "  \"Check mle_retvals\", ConvergenceWarning)\n"
     ]
    },
    {
     "name": "stdout",
     "output_type": "stream",
     "text": [
      "ARIMA (1, 1, 1) x (2, 0, 1, 12)  - AIC: 843.9144749167197\n",
      "ARIMA (1, 1, 1) x (2, 1, 0, 12)  - AIC: 138.3371436518043\n",
      "ARIMA (1, 1, 2) x (0, 0, 0, 12)  - AIC: 636.8790377891999\n"
     ]
    },
    {
     "name": "stderr",
     "output_type": "stream",
     "text": [
      "C:\\Users\\Personal\\Anaconda3\\lib\\site-packages\\statsmodels\\base\\model.py:512: ConvergenceWarning: Maximum Likelihood optimization failed to converge. Check mle_retvals\n",
      "  \"Check mle_retvals\", ConvergenceWarning)\n"
     ]
    },
    {
     "name": "stdout",
     "output_type": "stream",
     "text": [
      "ARIMA (1, 1, 2) x (0, 0, 1, 12)  - AIC: 2411.954608309543\n",
      "ARIMA (1, 1, 2) x (0, 1, 0, 12)  - AIC: 449.4788858975497\n",
      "ARIMA (1, 1, 2) x (0, 2, 0, 12)  - AIC: 305.7151397158989\n",
      "ARIMA (1, 1, 2) x (1, 0, 0, 12)  - AIC: 471.0555765122557\n"
     ]
    },
    {
     "name": "stderr",
     "output_type": "stream",
     "text": [
      "C:\\Users\\Personal\\Anaconda3\\lib\\site-packages\\statsmodels\\base\\model.py:512: ConvergenceWarning: Maximum Likelihood optimization failed to converge. Check mle_retvals\n",
      "  \"Check mle_retvals\", ConvergenceWarning)\n"
     ]
    },
    {
     "name": "stdout",
     "output_type": "stream",
     "text": [
      "ARIMA (1, 1, 2) x (1, 0, 1, 12)  - AIC: 2451.568220199866\n"
     ]
    },
    {
     "name": "stderr",
     "output_type": "stream",
     "text": [
      "C:\\Users\\Personal\\Anaconda3\\lib\\site-packages\\statsmodels\\base\\model.py:512: ConvergenceWarning: Maximum Likelihood optimization failed to converge. Check mle_retvals\n",
      "  \"Check mle_retvals\", ConvergenceWarning)\n"
     ]
    },
    {
     "name": "stdout",
     "output_type": "stream",
     "text": [
      "ARIMA (1, 1, 2) x (1, 1, 0, 12)  - AIC: 300.331843312844\n",
      "ARIMA (1, 1, 2) x (1, 2, 0, 12)  - AIC: 142.46380187455912\n",
      "ARIMA (1, 1, 2) x (2, 0, 0, 12)  - AIC: 302.2177680897056\n",
      "ARIMA (1, 1, 2) x (2, 0, 1, 12)  - AIC: 913.7600517570654\n"
     ]
    },
    {
     "name": "stderr",
     "output_type": "stream",
     "text": [
      "C:\\Users\\Personal\\Anaconda3\\lib\\site-packages\\statsmodels\\base\\model.py:512: ConvergenceWarning: Maximum Likelihood optimization failed to converge. Check mle_retvals\n",
      "  \"Check mle_retvals\", ConvergenceWarning)\n"
     ]
    },
    {
     "name": "stdout",
     "output_type": "stream",
     "text": [
      "ARIMA (1, 1, 2) x (2, 1, 0, 12)  - AIC: 140.74260659893343\n",
      "ARIMA (1, 2, 0) x (0, 0, 0, 12)  - AIC: 691.2298181871188\n"
     ]
    },
    {
     "name": "stderr",
     "output_type": "stream",
     "text": [
      "C:\\Users\\Personal\\Anaconda3\\lib\\site-packages\\statsmodels\\base\\model.py:512: ConvergenceWarning: Maximum Likelihood optimization failed to converge. Check mle_retvals\n",
      "  \"Check mle_retvals\", ConvergenceWarning)\n"
     ]
    },
    {
     "name": "stdout",
     "output_type": "stream",
     "text": [
      "ARIMA (1, 2, 0) x (0, 0, 1, 12)  - AIC: 1114.0313472955345\n",
      "ARIMA (1, 2, 0) x (0, 1, 0, 12)  - AIC: 487.7254958276131\n",
      "ARIMA (1, 2, 0) x (0, 2, 0, 12)  - AIC: 326.75644156583326\n",
      "ARIMA (1, 2, 0) x (1, 0, 0, 12)  - AIC: 485.7746885900541\n"
     ]
    },
    {
     "name": "stderr",
     "output_type": "stream",
     "text": [
      "C:\\Users\\Personal\\Anaconda3\\lib\\site-packages\\statsmodels\\base\\model.py:512: ConvergenceWarning: Maximum Likelihood optimization failed to converge. Check mle_retvals\n",
      "  \"Check mle_retvals\", ConvergenceWarning)\n"
     ]
    },
    {
     "name": "stdout",
     "output_type": "stream",
     "text": [
      "ARIMA (1, 2, 0) x (1, 0, 1, 12)  - AIC: 1190.4101705505122\n",
      "ARIMA (1, 2, 0) x (1, 1, 0, 12)  - AIC: 302.05521432253266\n",
      "ARIMA (1, 2, 0) x (1, 2, 0, 12)  - AIC: 129.59004245503516\n",
      "ARIMA (1, 2, 0) x (2, 0, 0, 12)  - AIC: 303.83852169143046\n"
     ]
    },
    {
     "name": "stderr",
     "output_type": "stream",
     "text": [
      "C:\\Users\\Personal\\Anaconda3\\lib\\site-packages\\statsmodels\\base\\model.py:512: ConvergenceWarning: Maximum Likelihood optimization failed to converge. Check mle_retvals\n",
      "  \"Check mle_retvals\", ConvergenceWarning)\n"
     ]
    },
    {
     "name": "stdout",
     "output_type": "stream",
     "text": [
      "ARIMA (1, 2, 0) x (2, 0, 1, 12)  - AIC: 894.2143266003809\n",
      "ARIMA (1, 2, 0) x (2, 1, 0, 12)  - AIC: 130.8650268398496\n",
      "ARIMA (1, 2, 1) x (0, 0, 0, 12)  - AIC: 647.5183048786912\n",
      "ARIMA (1, 2, 1) x (0, 0, 1, 12)  - AIC: 2549.2063785619653\n",
      "ARIMA (1, 2, 1) x (0, 1, 0, 12)  - AIC: 455.98684119703535\n",
      "ARIMA (1, 2, 1) x (0, 2, 0, 12)  - AIC: 308.339753560232\n",
      "ARIMA (1, 2, 1) x (1, 0, 0, 12)  - AIC: 470.83502628215246\n",
      "ARIMA (1, 2, 1) x (1, 0, 1, 12)  - AIC: 235999.5590459499\n",
      "ARIMA (1, 2, 1) x (1, 1, 0, 12)  - AIC: 293.09174468289143\n",
      "ARIMA (1, 2, 1) x (1, 2, 0, 12)  - AIC: 128.46456178816487\n",
      "ARIMA (1, 2, 1) x (2, 0, 0, 12)  - AIC: 293.76780130290376\n"
     ]
    },
    {
     "name": "stderr",
     "output_type": "stream",
     "text": [
      "C:\\Users\\Personal\\Anaconda3\\lib\\site-packages\\statsmodels\\base\\model.py:512: ConvergenceWarning: Maximum Likelihood optimization failed to converge. Check mle_retvals\n",
      "  \"Check mle_retvals\", ConvergenceWarning)\n"
     ]
    },
    {
     "name": "stdout",
     "output_type": "stream",
     "text": [
      "ARIMA (1, 2, 1) x (2, 0, 1, 12)  - AIC: 979.6563443851243\n",
      "ARIMA (1, 2, 1) x (2, 1, 0, 12)  - AIC: 130.67250513578512\n",
      "ARIMA (1, 2, 2) x (0, 0, 0, 12)  - AIC: 629.3897471704261\n",
      "ARIMA (1, 2, 2) x (0, 0, 1, 12)  - AIC: 2430.5192571982675\n",
      "ARIMA (1, 2, 2) x (0, 1, 0, 12)  - AIC: 442.08163418071507\n",
      "ARIMA (1, 2, 2) x (0, 2, 0, 12)  - AIC: 294.5627826458812\n",
      "ARIMA (1, 2, 2) x (1, 0, 0, 12)  - AIC: 470.59316711748306\n",
      "ARIMA (1, 2, 2) x (1, 0, 1, 12)  - AIC: 2365.2716311246118\n",
      "ARIMA (1, 2, 2) x (1, 1, 0, 12)  - AIC: 293.3465954552878\n"
     ]
    },
    {
     "name": "stderr",
     "output_type": "stream",
     "text": [
      "C:\\Users\\Personal\\Anaconda3\\lib\\site-packages\\statsmodels\\base\\model.py:512: ConvergenceWarning: Maximum Likelihood optimization failed to converge. Check mle_retvals\n",
      "  \"Check mle_retvals\", ConvergenceWarning)\n"
     ]
    },
    {
     "name": "stdout",
     "output_type": "stream",
     "text": [
      "ARIMA (1, 2, 2) x (1, 2, 0, 12)  - AIC: 127.95948033217783\n",
      "ARIMA (1, 2, 2) x (2, 0, 0, 12)  - AIC: 294.00291413731867\n"
     ]
    },
    {
     "name": "stderr",
     "output_type": "stream",
     "text": [
      "C:\\Users\\Personal\\Anaconda3\\lib\\site-packages\\statsmodels\\base\\model.py:512: ConvergenceWarning: Maximum Likelihood optimization failed to converge. Check mle_retvals\n",
      "  \"Check mle_retvals\", ConvergenceWarning)\n"
     ]
    },
    {
     "name": "stdout",
     "output_type": "stream",
     "text": [
      "ARIMA (1, 2, 2) x (2, 0, 1, 12)  - AIC: 962.2986554522986\n",
      "ARIMA (1, 2, 2) x (2, 1, 0, 12)  - AIC: 129.61643100678214\n",
      "ARIMA (2, 0, 0) x (0, 0, 0, 12)  - AIC: 673.0244705850718\n"
     ]
    },
    {
     "name": "stderr",
     "output_type": "stream",
     "text": [
      "C:\\Users\\Personal\\Anaconda3\\lib\\site-packages\\statsmodels\\base\\model.py:512: ConvergenceWarning: Maximum Likelihood optimization failed to converge. Check mle_retvals\n",
      "  \"Check mle_retvals\", ConvergenceWarning)\n"
     ]
    },
    {
     "name": "stdout",
     "output_type": "stream",
     "text": [
      "ARIMA (2, 0, 0) x (0, 0, 1, 12)  - AIC: 1342.0149042560079\n",
      "ARIMA (2, 0, 0) x (0, 1, 0, 12)  - AIC: 468.31523432718774\n",
      "ARIMA (2, 0, 0) x (0, 2, 0, 12)  - AIC: 326.1432862885688\n",
      "ARIMA (2, 0, 0) x (1, 0, 0, 12)  - AIC: 469.60455394734464\n",
      "ARIMA (2, 0, 0) x (1, 0, 1, 12)  - AIC: 1020.7949593634305\n",
      "ARIMA (2, 0, 0) x (1, 1, 0, 12)  - AIC: 293.56946448404886\n",
      "ARIMA (2, 0, 0) x (1, 2, 0, 12)  - AIC: 134.4781543303875\n",
      "ARIMA (2, 0, 0) x (2, 0, 0, 12)  - AIC: 295.52819097343286\n",
      "ARIMA (2, 0, 0) x (2, 0, 1, 12)  - AIC: 820.5763181091445\n",
      "ARIMA (2, 0, 0) x (2, 1, 0, 12)  - AIC: 136.04020418828333\n",
      "ARIMA (2, 0, 1) x (0, 0, 0, 12)  - AIC: 665.794483975611\n"
     ]
    },
    {
     "name": "stderr",
     "output_type": "stream",
     "text": [
      "C:\\Users\\Personal\\Anaconda3\\lib\\site-packages\\statsmodels\\base\\model.py:512: ConvergenceWarning: Maximum Likelihood optimization failed to converge. Check mle_retvals\n",
      "  \"Check mle_retvals\", ConvergenceWarning)\n"
     ]
    },
    {
     "name": "stdout",
     "output_type": "stream",
     "text": [
      "ARIMA (2, 0, 1) x (0, 0, 1, 12)  - AIC: 2711.735436418557\n",
      "ARIMA (2, 0, 1) x (0, 1, 0, 12)  - AIC: 469.80692109529315\n",
      "ARIMA (2, 0, 1) x (0, 2, 0, 12)  - AIC: 326.61489012879036\n",
      "ARIMA (2, 0, 1) x (1, 0, 0, 12)  - AIC: 471.15581808676427\n",
      "ARIMA (2, 0, 1) x (1, 0, 1, 12)  - AIC: 3723.1109261743113\n",
      "ARIMA (2, 0, 1) x (1, 1, 0, 12)  - AIC: 294.14936433195993\n",
      "ARIMA (2, 0, 1) x (1, 2, 0, 12)  - AIC: 136.15226253367484\n",
      "ARIMA (2, 0, 1) x (2, 0, 0, 12)  - AIC: 295.9333700891064\n",
      "ARIMA (2, 0, 1) x (2, 0, 1, 12)  - AIC: 802.4589033454273\n"
     ]
    },
    {
     "name": "stderr",
     "output_type": "stream",
     "text": [
      "C:\\Users\\Personal\\Anaconda3\\lib\\site-packages\\statsmodels\\base\\model.py:512: ConvergenceWarning: Maximum Likelihood optimization failed to converge. Check mle_retvals\n",
      "  \"Check mle_retvals\", ConvergenceWarning)\n"
     ]
    },
    {
     "name": "stdout",
     "output_type": "stream",
     "text": [
      "ARIMA (2, 0, 1) x (2, 1, 0, 12)  - AIC: 133.59291218679311\n",
      "ARIMA (2, 0, 2) x (0, 0, 0, 12)  - AIC: 653.6818630920978\n",
      "ARIMA (2, 0, 2) x (0, 0, 1, 12)  - AIC: 494228.0441292212\n",
      "ARIMA (2, 0, 2) x (0, 1, 0, 12)  - AIC: 453.68938145440563\n",
      "ARIMA (2, 0, 2) x (0, 2, 0, 12)  - AIC: 314.4582136712704\n",
      "ARIMA (2, 0, 2) x (1, 0, 0, 12)  - AIC: 471.8478770840317\n"
     ]
    },
    {
     "name": "stderr",
     "output_type": "stream",
     "text": [
      "C:\\Users\\Personal\\Anaconda3\\lib\\site-packages\\statsmodels\\base\\model.py:512: ConvergenceWarning: Maximum Likelihood optimization failed to converge. Check mle_retvals\n",
      "  \"Check mle_retvals\", ConvergenceWarning)\n"
     ]
    },
    {
     "name": "stdout",
     "output_type": "stream",
     "text": [
      "ARIMA (2, 0, 2) x (1, 0, 1, 12)  - AIC: 2426.716576831823\n"
     ]
    },
    {
     "name": "stderr",
     "output_type": "stream",
     "text": [
      "C:\\Users\\Personal\\Anaconda3\\lib\\site-packages\\statsmodels\\base\\model.py:512: ConvergenceWarning: Maximum Likelihood optimization failed to converge. Check mle_retvals\n",
      "  \"Check mle_retvals\", ConvergenceWarning)\n"
     ]
    },
    {
     "name": "stdout",
     "output_type": "stream",
     "text": [
      "ARIMA (2, 0, 2) x (1, 1, 0, 12)  - AIC: 288.5614972756844\n",
      "ARIMA (2, 0, 2) x (1, 2, 0, 12)  - AIC: 135.25203412949858\n"
     ]
    },
    {
     "name": "stderr",
     "output_type": "stream",
     "text": [
      "C:\\Users\\Personal\\Anaconda3\\lib\\site-packages\\statsmodels\\base\\model.py:512: ConvergenceWarning: Maximum Likelihood optimization failed to converge. Check mle_retvals\n",
      "  \"Check mle_retvals\", ConvergenceWarning)\n"
     ]
    },
    {
     "name": "stdout",
     "output_type": "stream",
     "text": [
      "ARIMA (2, 0, 2) x (2, 0, 0, 12)  - AIC: 292.8225011594317\n"
     ]
    },
    {
     "name": "stderr",
     "output_type": "stream",
     "text": [
      "C:\\Users\\Personal\\Anaconda3\\lib\\site-packages\\statsmodels\\base\\model.py:512: ConvergenceWarning: Maximum Likelihood optimization failed to converge. Check mle_retvals\n",
      "  \"Check mle_retvals\", ConvergenceWarning)\n"
     ]
    },
    {
     "name": "stdout",
     "output_type": "stream",
     "text": [
      "ARIMA (2, 0, 2) x (2, 0, 1, 12)  - AIC: 967.8529969478111\n"
     ]
    },
    {
     "name": "stderr",
     "output_type": "stream",
     "text": [
      "C:\\Users\\Personal\\Anaconda3\\lib\\site-packages\\statsmodels\\base\\model.py:512: ConvergenceWarning: Maximum Likelihood optimization failed to converge. Check mle_retvals\n",
      "  \"Check mle_retvals\", ConvergenceWarning)\n"
     ]
    },
    {
     "name": "stdout",
     "output_type": "stream",
     "text": [
      "ARIMA (2, 0, 2) x (2, 1, 0, 12)  - AIC: 133.46396876601744\n",
      "ARIMA (2, 1, 0) x (0, 0, 0, 12)  - AIC: 651.8913365664912\n"
     ]
    },
    {
     "name": "stderr",
     "output_type": "stream",
     "text": [
      "C:\\Users\\Personal\\Anaconda3\\lib\\site-packages\\statsmodels\\base\\model.py:512: ConvergenceWarning: Maximum Likelihood optimization failed to converge. Check mle_retvals\n",
      "  \"Check mle_retvals\", ConvergenceWarning)\n"
     ]
    },
    {
     "name": "stdout",
     "output_type": "stream",
     "text": [
      "ARIMA (2, 1, 0) x (0, 0, 1, 12)  - AIC: 1377.5660453387811\n",
      "ARIMA (2, 1, 0) x (0, 1, 0, 12)  - AIC: 464.8919482420157\n",
      "ARIMA (2, 1, 0) x (0, 2, 0, 12)  - AIC: 318.67122575690234\n",
      "ARIMA (2, 1, 0) x (1, 0, 0, 12)  - AIC: 461.9777969139448\n",
      "ARIMA (2, 1, 0) x (1, 0, 1, 12)  - AIC: 1351.2219522248242\n",
      "ARIMA (2, 1, 0) x (1, 1, 0, 12)  - AIC: 288.39356504179284\n",
      "ARIMA (2, 1, 0) x (1, 2, 0, 12)  - AIC: 127.60471418774095\n",
      "ARIMA (2, 1, 0) x (2, 0, 0, 12)  - AIC: 288.7598698371286\n"
     ]
    },
    {
     "name": "stderr",
     "output_type": "stream",
     "text": [
      "C:\\Users\\Personal\\Anaconda3\\lib\\site-packages\\statsmodels\\base\\model.py:512: ConvergenceWarning: Maximum Likelihood optimization failed to converge. Check mle_retvals\n",
      "  \"Check mle_retvals\", ConvergenceWarning)\n"
     ]
    },
    {
     "name": "stdout",
     "output_type": "stream",
     "text": [
      "ARIMA (2, 1, 0) x (2, 0, 1, 12)  - AIC: 812.4596939488556\n",
      "ARIMA (2, 1, 0) x (2, 1, 0, 12)  - AIC: 126.86910500704788\n",
      "ARIMA (2, 1, 1) x (0, 0, 0, 12)  - AIC: 653.7027592626664\n"
     ]
    },
    {
     "name": "stderr",
     "output_type": "stream",
     "text": [
      "C:\\Users\\Personal\\Anaconda3\\lib\\site-packages\\statsmodels\\base\\model.py:512: ConvergenceWarning: Maximum Likelihood optimization failed to converge. Check mle_retvals\n",
      "  \"Check mle_retvals\", ConvergenceWarning)\n"
     ]
    },
    {
     "name": "stdout",
     "output_type": "stream",
     "text": [
      "ARIMA (2, 1, 1) x (0, 0, 1, 12)  - AIC: 2590.3677461769125\n",
      "ARIMA (2, 1, 1) x (0, 1, 0, 12)  - AIC: 461.57371821058194\n",
      "ARIMA (2, 1, 1) x (0, 2, 0, 12)  - AIC: 319.47517657398015\n",
      "ARIMA (2, 1, 1) x (1, 0, 0, 12)  - AIC: 457.91198004871154\n",
      "ARIMA (2, 1, 1) x (1, 0, 1, 12)  - AIC: 2829.9402902040642\n",
      "ARIMA (2, 1, 1) x (1, 1, 0, 12)  - AIC: 287.85574031075924\n"
     ]
    },
    {
     "name": "stderr",
     "output_type": "stream",
     "text": [
      "C:\\Users\\Personal\\Anaconda3\\lib\\site-packages\\statsmodels\\base\\model.py:512: ConvergenceWarning: Maximum Likelihood optimization failed to converge. Check mle_retvals\n",
      "  \"Check mle_retvals\", ConvergenceWarning)\n"
     ]
    },
    {
     "name": "stdout",
     "output_type": "stream",
     "text": [
      "ARIMA (2, 1, 1) x (1, 2, 0, 12)  - AIC: 124.67853089347506\n",
      "ARIMA (2, 1, 1) x (2, 0, 0, 12)  - AIC: 287.84509315764785\n"
     ]
    },
    {
     "name": "stderr",
     "output_type": "stream",
     "text": [
      "C:\\Users\\Personal\\Anaconda3\\lib\\site-packages\\statsmodels\\base\\model.py:512: ConvergenceWarning: Maximum Likelihood optimization failed to converge. Check mle_retvals\n",
      "  \"Check mle_retvals\", ConvergenceWarning)\n"
     ]
    },
    {
     "name": "stdout",
     "output_type": "stream",
     "text": [
      "ARIMA (2, 1, 1) x (2, 0, 1, 12)  - AIC: 884.4417903682156\n",
      "ARIMA (2, 1, 1) x (2, 1, 0, 12)  - AIC: 126.32876516433308\n",
      "ARIMA (2, 1, 2) x (0, 0, 0, 12)  - AIC: 642.1210464597119\n",
      "ARIMA (2, 1, 2) x (0, 0, 1, 12)  - AIC: 2375.9592616348987\n",
      "ARIMA (2, 1, 2) x (0, 1, 0, 12)  - AIC: 450.0711888880003\n",
      "ARIMA (2, 1, 2) x (0, 2, 0, 12)  - AIC: 305.9445167324149\n",
      "ARIMA (2, 1, 2) x (1, 0, 0, 12)  - AIC: 459.0451072831946\n",
      "ARIMA (2, 1, 2) x (1, 0, 1, 12)  - AIC: 16762.950971426915\n"
     ]
    },
    {
     "name": "stderr",
     "output_type": "stream",
     "text": [
      "C:\\Users\\Personal\\Anaconda3\\lib\\site-packages\\statsmodels\\base\\model.py:512: ConvergenceWarning: Maximum Likelihood optimization failed to converge. Check mle_retvals\n",
      "  \"Check mle_retvals\", ConvergenceWarning)\n"
     ]
    },
    {
     "name": "stdout",
     "output_type": "stream",
     "text": [
      "ARIMA (2, 1, 2) x (1, 1, 0, 12)  - AIC: 287.5623376909123\n"
     ]
    },
    {
     "name": "stderr",
     "output_type": "stream",
     "text": [
      "C:\\Users\\Personal\\Anaconda3\\lib\\site-packages\\statsmodels\\base\\model.py:512: ConvergenceWarning: Maximum Likelihood optimization failed to converge. Check mle_retvals\n",
      "  \"Check mle_retvals\", ConvergenceWarning)\n"
     ]
    },
    {
     "name": "stdout",
     "output_type": "stream",
     "text": [
      "ARIMA (2, 1, 2) x (1, 2, 0, 12)  - AIC: 127.25633563257384\n",
      "ARIMA (2, 1, 2) x (2, 0, 0, 12)  - AIC: 288.5720384887386\n"
     ]
    },
    {
     "name": "stderr",
     "output_type": "stream",
     "text": [
      "C:\\Users\\Personal\\Anaconda3\\lib\\site-packages\\statsmodels\\base\\model.py:512: ConvergenceWarning: Maximum Likelihood optimization failed to converge. Check mle_retvals\n",
      "  \"Check mle_retvals\", ConvergenceWarning)\n"
     ]
    },
    {
     "name": "stdout",
     "output_type": "stream",
     "text": [
      "ARIMA (2, 1, 2) x (2, 0, 1, 12)  - AIC: 972.2596352361297\n"
     ]
    },
    {
     "name": "stderr",
     "output_type": "stream",
     "text": [
      "C:\\Users\\Personal\\Anaconda3\\lib\\site-packages\\statsmodels\\base\\model.py:512: ConvergenceWarning: Maximum Likelihood optimization failed to converge. Check mle_retvals\n",
      "  \"Check mle_retvals\", ConvergenceWarning)\n"
     ]
    },
    {
     "name": "stdout",
     "output_type": "stream",
     "text": [
      "ARIMA (2, 1, 2) x (2, 1, 0, 12)  - AIC: 127.91172578077878\n",
      "ARIMA (2, 2, 0) x (0, 0, 0, 12)  - AIC: 656.929182124119\n"
     ]
    },
    {
     "name": "stderr",
     "output_type": "stream",
     "text": [
      "C:\\Users\\Personal\\Anaconda3\\lib\\site-packages\\statsmodels\\base\\model.py:512: ConvergenceWarning: Maximum Likelihood optimization failed to converge. Check mle_retvals\n",
      "  \"Check mle_retvals\", ConvergenceWarning)\n"
     ]
    },
    {
     "name": "stdout",
     "output_type": "stream",
     "text": [
      "ARIMA (2, 2, 0) x (0, 0, 1, 12)  - AIC: 1253.255660096729\n",
      "ARIMA (2, 2, 0) x (0, 1, 0, 12)  - AIC: 467.7456111917659\n",
      "ARIMA (2, 2, 0) x (0, 2, 0, 12)  - AIC: 311.69952051933984\n",
      "ARIMA (2, 2, 0) x (1, 0, 0, 12)  - AIC: 464.76088503899445\n"
     ]
    },
    {
     "name": "stderr",
     "output_type": "stream",
     "text": [
      "C:\\Users\\Personal\\Anaconda3\\lib\\site-packages\\statsmodels\\base\\model.py:512: ConvergenceWarning: Maximum Likelihood optimization failed to converge. Check mle_retvals\n",
      "  \"Check mle_retvals\", ConvergenceWarning)\n"
     ]
    },
    {
     "name": "stdout",
     "output_type": "stream",
     "text": [
      "ARIMA (2, 2, 0) x (1, 0, 1, 12)  - AIC: 1244.619883151569\n",
      "ARIMA (2, 2, 0) x (1, 1, 0, 12)  - AIC: 286.09553541478465\n",
      "ARIMA (2, 2, 0) x (1, 2, 0, 12)  - AIC: 117.90430574034679\n",
      "ARIMA (2, 2, 0) x (2, 0, 0, 12)  - AIC: 283.1555485839352\n",
      "ARIMA (2, 2, 0) x (2, 0, 1, 12)  - AIC: 764.6671990153357\n",
      "ARIMA (2, 2, 0) x (2, 1, 0, 12)  - AIC: 117.49144309452117\n",
      "ARIMA (2, 2, 1) x (0, 0, 0, 12)  - AIC: 643.7507440372158\n"
     ]
    },
    {
     "name": "stderr",
     "output_type": "stream",
     "text": [
      "C:\\Users\\Personal\\Anaconda3\\lib\\site-packages\\statsmodels\\base\\model.py:512: ConvergenceWarning: Maximum Likelihood optimization failed to converge. Check mle_retvals\n",
      "  \"Check mle_retvals\", ConvergenceWarning)\n"
     ]
    },
    {
     "name": "stdout",
     "output_type": "stream",
     "text": [
      "ARIMA (2, 2, 1) x (0, 0, 1, 12)  - AIC: 2475.848153479747\n",
      "ARIMA (2, 2, 1) x (0, 1, 0, 12)  - AIC: 457.70967021825413\n",
      "ARIMA (2, 2, 1) x (0, 2, 0, 12)  - AIC: 309.3853855182372\n",
      "ARIMA (2, 2, 1) x (1, 0, 0, 12)  - AIC: 455.09659927662153\n",
      "ARIMA (2, 2, 1) x (1, 0, 1, 12)  - AIC: 767021.5869535666\n",
      "ARIMA (2, 2, 1) x (1, 1, 0, 12)  - AIC: 279.4519907918799\n",
      "ARIMA (2, 2, 1) x (1, 2, 0, 12)  - AIC: 117.35996066073974\n",
      "ARIMA (2, 2, 1) x (2, 0, 0, 12)  - AIC: 279.4551139175746\n"
     ]
    },
    {
     "name": "stderr",
     "output_type": "stream",
     "text": [
      "C:\\Users\\Personal\\Anaconda3\\lib\\site-packages\\statsmodels\\base\\model.py:512: ConvergenceWarning: Maximum Likelihood optimization failed to converge. Check mle_retvals\n",
      "  \"Check mle_retvals\", ConvergenceWarning)\n"
     ]
    },
    {
     "name": "stdout",
     "output_type": "stream",
     "text": [
      "ARIMA (2, 2, 1) x (2, 0, 1, 12)  - AIC: 651.4454938082423\n"
     ]
    },
    {
     "name": "stderr",
     "output_type": "stream",
     "text": [
      "C:\\Users\\Personal\\Anaconda3\\lib\\site-packages\\statsmodels\\base\\model.py:512: ConvergenceWarning: Maximum Likelihood optimization failed to converge. Check mle_retvals\n",
      "  \"Check mle_retvals\", ConvergenceWarning)\n"
     ]
    },
    {
     "name": "stdout",
     "output_type": "stream",
     "text": [
      "ARIMA (2, 2, 1) x (2, 1, 0, 12)  - AIC: 116.26597418719649\n",
      "ARIMA (2, 2, 2) x (0, 0, 0, 12)  - AIC: 631.2678875797504\n",
      "ARIMA (2, 2, 2) x (0, 0, 1, 12)  - AIC: 4328.674692871357\n",
      "ARIMA (2, 2, 2) x (0, 1, 0, 12)  - AIC: 445.2459924126749\n",
      "ARIMA (2, 2, 2) x (0, 2, 0, 12)  - AIC: 296.4650356310909\n",
      "ARIMA (2, 2, 2) x (1, 0, 0, 12)  - AIC: 452.31401810484556\n",
      "ARIMA (2, 2, 2) x (1, 0, 1, 12)  - AIC: 2318.086779991448\n"
     ]
    },
    {
     "name": "stderr",
     "output_type": "stream",
     "text": [
      "C:\\Users\\Personal\\Anaconda3\\lib\\site-packages\\statsmodels\\base\\model.py:512: ConvergenceWarning: Maximum Likelihood optimization failed to converge. Check mle_retvals\n",
      "  \"Check mle_retvals\", ConvergenceWarning)\n"
     ]
    },
    {
     "name": "stdout",
     "output_type": "stream",
     "text": [
      "ARIMA (2, 2, 2) x (1, 1, 0, 12)  - AIC: 281.44499476697604\n"
     ]
    },
    {
     "name": "stderr",
     "output_type": "stream",
     "text": [
      "C:\\Users\\Personal\\Anaconda3\\lib\\site-packages\\statsmodels\\base\\model.py:512: ConvergenceWarning: Maximum Likelihood optimization failed to converge. Check mle_retvals\n",
      "  \"Check mle_retvals\", ConvergenceWarning)\n"
     ]
    },
    {
     "name": "stdout",
     "output_type": "stream",
     "text": [
      "ARIMA (2, 2, 2) x (1, 2, 0, 12)  - AIC: 119.04820485858235\n",
      "ARIMA (2, 2, 2) x (2, 0, 0, 12)  - AIC: 281.31746769107696\n"
     ]
    },
    {
     "name": "stderr",
     "output_type": "stream",
     "text": [
      "C:\\Users\\Personal\\Anaconda3\\lib\\site-packages\\statsmodels\\base\\model.py:512: ConvergenceWarning: Maximum Likelihood optimization failed to converge. Check mle_retvals\n",
      "  \"Check mle_retvals\", ConvergenceWarning)\n"
     ]
    },
    {
     "name": "stdout",
     "output_type": "stream",
     "text": [
      "ARIMA (2, 2, 2) x (2, 0, 1, 12)  - AIC: 890.8020351600414\n",
      "ARIMA (2, 2, 2) x (2, 1, 0, 12)  - AIC: 119.41112307967009\n"
     ]
    },
    {
     "name": "stderr",
     "output_type": "stream",
     "text": [
      "C:\\Users\\Personal\\Anaconda3\\lib\\site-packages\\statsmodels\\base\\model.py:512: ConvergenceWarning: Maximum Likelihood optimization failed to converge. Check mle_retvals\n",
      "  \"Check mle_retvals\", ConvergenceWarning)\n"
     ]
    }
   ],
   "source": [
    "from pylab import rcParams\n",
    "aic_list=[]\n",
    "for param in pdq:\n",
    "    for param_seasonal in seasonal_pdq:\n",
    "        try:\n",
    "\n",
    "            mod = sm.tsa.statespace.SARIMAX(y, order=param,seasonal_order=param_seasonal,enforce_invertibility=False,\n",
    "                                        enforce_stationarity=False)\n",
    "            results = mod.fit()\n",
    "            print('ARIMA',param,'x',param_seasonal,' - AIC:',results.aic)\n",
    "            aic_list.append(results.aic)\n",
    "        except:\n",
    "            continue\n",
    "\n"
   ]
  },
  {
   "cell_type": "code",
   "execution_count": 61,
   "metadata": {},
   "outputs": [
    {
     "name": "stdout",
     "output_type": "stream",
     "text": [
      "116.26597418719649\n"
     ]
    }
   ],
   "source": [
    "print(min(aic_list))"
   ]
  },
  {
   "cell_type": "code",
   "execution_count": 62,
   "metadata": {},
   "outputs": [
    {
     "name": "stderr",
     "output_type": "stream",
     "text": [
      "C:\\Users\\Personal\\Anaconda3\\lib\\site-packages\\statsmodels\\base\\model.py:512: ConvergenceWarning: Maximum Likelihood optimization failed to converge. Check mle_retvals\n",
      "  \"Check mle_retvals\", ConvergenceWarning)\n"
     ]
    }
   ],
   "source": [
    "## for range \n",
    "\n",
    "\n",
    "mod = sm.tsa.statespace.SARIMAX(y, order=(2,2,1),seasonal_order=(2,1,0,12),enforce_invertibility=False,\n",
    "                                        enforce_stationarity=False)\n",
    "results = mod.fit()"
   ]
  },
  {
   "cell_type": "code",
   "execution_count": 63,
   "metadata": {},
   "outputs": [
    {
     "data": {
      "image/png": "[encoded data removed]",
      "text/plain": [
       "<Figure size 720x432 with 1 Axes>"
      ]
     },
     "metadata": {
      "needs_background": "light"
     },
     "output_type": "display_data"
    }
   ],
   "source": [
    "pred = results.get_prediction(start=pd.to_datetime('2017-01-01'))\n",
    "plt.figure(figsize=(10,6))\n",
    "ax = y['2014':].plot(label='observed')\n",
    "pred.predicted_mean.plot(ax=ax, label='Validation Forecast')\n",
    "ax.set_xlabel('Date')\n",
    "ax.set_ylabel('Furniture Sales')\n",
    "plt.legend()\n",
    "plt.show()\n",
    "\n"
   ]
  },
  {
   "cell_type": "code",
   "execution_count": 64,
   "metadata": {},
   "outputs": [
    {
     "name": "stdout",
     "output_type": "stream",
     "text": [
      "185.7849536389227\n"
     ]
    }
   ],
   "source": [
    "Y_pred = pred.predicted_mean \n",
    "Y_test = y['2017-01-01':]\n",
    "\n",
    "from sklearn.metrics import mean_squared_error\n",
    "from math import sqrt \n",
    "rms = sqrt(mean_squared_error(Y_test, Y_pred))\n",
    "print(rms)"
   ]
  },
  {
   "cell_type": "code",
   "execution_count": 65,
   "metadata": {},
   "outputs": [
    {
     "data": {
      "image/png": "[encoded data removed]",
      "text/plain": [
       "<Figure size 720x432 with 1 Axes>"
      ]
     },
     "metadata": {
      "needs_background": "light"
     },
     "output_type": "display_data"
    }
   ],
   "source": [
    "## get forecast for the future \n",
    "\n",
    "pred_uc = results.get_forecast(steps=24)\n",
    "plt.figure(figsize=(10,6))\n",
    "ax = y['2014':].plot(label='observed')\n",
    "pred_uc.predicted_mean.plot(ax=ax, label='One-step ahead Forecast')\n",
    "ax.set_xlabel('Date')\n",
    "ax.set_ylabel('Furniture Sales')\n",
    "plt.legend()\n",
    "plt.show()\n",
    "\n"
   ]
  },
  {
   "cell_type": "code",
   "execution_count": 66,
   "metadata": {},
   "outputs": [
    {
     "data": {
      "text/plain": [
       "2018-01-01     546.753291\n",
       "2018-02-01     503.978502\n",
       "2018-03-01     596.431362\n",
       "2018-04-01     596.027547\n",
       "2018-05-01     736.522252\n",
       "2018-06-01     907.002468\n",
       "2018-07-01     704.968388\n",
       "2018-08-01     925.481299\n",
       "2018-09-01    1305.272020\n",
       "2018-10-01     941.005792\n",
       "2018-11-01    1403.323621\n",
       "2018-12-01    1429.225537\n",
       "2019-01-01     661.673416\n",
       "2019-02-01     665.851046\n",
       "2019-03-01     751.902879\n",
       "2019-04-01     740.519936\n",
       "2019-05-01     909.002811\n",
       "2019-06-01    1084.224084\n",
       "2019-07-01     877.874130\n",
       "2019-08-01    1124.297546\n",
       "2019-09-01    1507.380212\n",
       "2019-10-01    1159.104539\n",
       "2019-11-01    1617.759691\n",
       "2019-12-01    1642.696517\n",
       "Freq: MS, dtype: float64"
      ]
     },
     "execution_count": 66,
     "metadata": {},
     "output_type": "execute_result"
    }
   ],
   "source": [
    "Y_predictions=pred_uc.predicted_mean \n",
    "Y_predictions"
   ]
  },
  {
   "cell_type": "code",
   "execution_count": null,
   "metadata": {},
   "outputs": [],
   "source": []
  }
 ],
 "metadata": {
  "kernelspec": {
   "display_name": "Python 3",
   "language": "python",
   "name": "python3"
  },
  "language_info": {
   "codemirror_mode": {
    "name": "ipython",
    "version": 3
   },
   "file_extension": ".py",
   "mimetype": "text/x-python",
   "name": "python",
   "nbconvert_exporter": "python",
   "pygments_lexer": "ipython3",
   "version": "3.7.3"
  }
 },
 "nbformat": 4,
 "nbformat_minor": 2
}
